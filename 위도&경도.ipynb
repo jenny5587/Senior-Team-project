{
  "nbformat": 4,
  "nbformat_minor": 0,
  "metadata": {
    "colab": {
      "name": "\b위도 경도 함수.ipynb",
      "provenance": [],
      "collapsed_sections": []
    },
    "kernelspec": {
      "name": "python3",
      "display_name": "Python 3"
    },
    "language_info": {
      "name": "python"
    }
  },
  "cells": [
    {
      "cell_type": "code",
      "source": [
        "from geopy.geocoders import Nominatim"
      ],
      "metadata": {
        "id": "uLddTncyPJvw"
      },
      "execution_count": 1,
      "outputs": []
    },
    {
      "cell_type": "code",
      "source": [
        "geocoder = Nominatim(user_agent='South Korea', timeout=None)"
      ],
      "metadata": {
        "id": "GOHdfUft3HuB"
      },
      "execution_count": 2,
      "outputs": []
    },
    {
      "cell_type": "code",
      "source": [
        "geo = geocoder.geocode('서울특별시 은평구 증산서길 89')"
      ],
      "metadata": {
        "id": "iCB-QP1P3QAJ"
      },
      "execution_count": 3,
      "outputs": []
    },
    {
      "cell_type": "code",
      "source": [
        "geo"
      ],
      "metadata": {
        "colab": {
          "base_uri": "https://localhost:8080/"
        },
        "id": "s-WzYVfN3Wfp",
        "outputId": "846193c4-d43e-4697-c791-ae51beb28fae"
      },
      "execution_count": 4,
      "outputs": [
        {
          "output_type": "execute_result",
          "data": {
            "text/plain": [
              "Location(증산동 주민센터, 89, 증산서길, 증산동, 은평구, 서울, 03498, 대한민국, (37.5843584, 126.90702314605502, 0.0))"
            ]
          },
          "metadata": {},
          "execution_count": 4
        }
      ]
    },
    {
      "cell_type": "code",
      "source": [
        "geo.latitude"
      ],
      "metadata": {
        "colab": {
          "base_uri": "https://localhost:8080/"
        },
        "id": "jaoci3NH3XEP",
        "outputId": "cf888e74-174d-4e8c-dc60-3960f6415d76"
      },
      "execution_count": 5,
      "outputs": [
        {
          "output_type": "execute_result",
          "data": {
            "text/plain": [
              "37.5843584"
            ]
          },
          "metadata": {},
          "execution_count": 5
        }
      ]
    },
    {
      "cell_type": "code",
      "source": [
        "geo.longitude"
      ],
      "metadata": {
        "colab": {
          "base_uri": "https://localhost:8080/"
        },
        "id": "bsSz1KEK3atP",
        "outputId": "003a8378-e046-404a-b958-a5674b8df6ac"
      },
      "execution_count": 6,
      "outputs": [
        {
          "output_type": "execute_result",
          "data": {
            "text/plain": [
              "126.90702314605502"
            ]
          },
          "metadata": {},
          "execution_count": 6
        }
      ]
    },
    {
      "cell_type": "code",
      "source": [
        "samwon = geocoder.geocode('서울특별시 테헤란로 124')"
      ],
      "metadata": {
        "id": "7cbu37I-3cAH"
      },
      "execution_count": 7,
      "outputs": []
    },
    {
      "cell_type": "code",
      "source": [
        "samwon"
      ],
      "metadata": {
        "colab": {
          "base_uri": "https://localhost:8080/"
        },
        "id": "Uf7_YtKS3mRo",
        "outputId": "dad53ed3-2120-49bf-c6aa-2a787bbc0fa6"
      },
      "execution_count": 8,
      "outputs": [
        {
          "output_type": "execute_result",
          "data": {
            "text/plain": [
              "Location(테헤란로, 삼성동, 강남구, 서울, 06195, 대한민국, (37.5069402, 127.0565359, 0.0))"
            ]
          },
          "metadata": {},
          "execution_count": 8
        }
      ]
    },
    {
      "cell_type": "code",
      "source": [
        "def geocoding(goecoder, addresses):\n",
        "    for addr in addresses:\n",
        "        # print(addr)\n",
        "        geo = geocoder.geocode(addr)\n",
        "        latlng = {'lat': geo.latitude, 'lng': geo.longitude}\n",
        "        yield latlng"
      ],
      "metadata": {
        "id": "GitLI_r53nwo"
      },
      "execution_count": 9,
      "outputs": []
    },
    {
      "cell_type": "code",
      "source": [
        "geocoder = Nominatim(user_agent='South Korea', timeout=None)\n",
        "addresses = ['서울특별시 종로구 사직로9길 1',\n",
        "             '서울특별시 종로구 종로17길 8',\n",
        "             '서울특별시 종로구 삼청로 107',\n",
        "             '서울특별시 종로구 북촌로 35']\n",
        "for latlng in geocoding(geocoder, addresses):\n",
        "    print(latlng)"
      ],
      "metadata": {
        "colab": {
          "base_uri": "https://localhost:8080/"
        },
        "id": "Mu_bU7PH47H4",
        "outputId": "d2c8cc89-574a-46bf-e845-b180ee9f528e"
      },
      "execution_count": 10,
      "outputs": [
        {
          "output_type": "stream",
          "name": "stdout",
          "text": [
            "{'lat': 37.576191449999996, 'lng': 126.96882915}\n",
            "{'lat': 37.5707276, 'lng': 126.9889123}\n",
            "{'lat': 37.5849793, 'lng': 126.98178162729107}\n",
            "{'lat': 37.58002545, 'lng': 126.98480464831948}\n"
          ]
        }
      ]
    }
  ]
}