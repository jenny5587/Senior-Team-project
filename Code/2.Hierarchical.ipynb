{
  "nbformat": 4,
  "nbformat_minor": 0,
  "metadata": {
    "colab": {
      "name": "Hierarchical.ipynb",
      "provenance": [],
      "collapsed_sections": []
    },
    "kernelspec": {
      "name": "python3",
      "display_name": "Python 3"
    },
    "language_info": {
      "name": "python"
    }
  },
  "cells": [
    {
      "cell_type": "markdown",
      "source": [
        "#Imports"
      ],
      "metadata": {
        "id": "HT5PzfnZsAvS"
      }
    },
    {
      "cell_type": "code",
      "execution_count": 22,
      "metadata": {
        "id": "rierMH6JAett"
      },
      "outputs": [],
      "source": [
        "from sklearn.preprocessing import scale\n",
        "from sklearn.cluster import KMeans\n",
        "import matplotlib.pyplot as plt\n",
        "import numpy as np\n",
        "import pandas as pd\n",
        "\n",
        "# Clustering\n",
        "from scipy.cluster.hierarchy import linkage, dendrogram, fcluster\n",
        "\n",
        "# Scaling & silhouette\n",
        "from sklearn.preprocessing import StandardScaler\n",
        "from sklearn.metrics import silhouette_samples, silhouette_score,davies_bouldin_score\n",
        "from yellowbrick.cluster import SilhouetteVisualizer\n",
        "# yellowbrick -> 머신러닝 시각화도구"
      ]
    },
    {
      "cell_type": "code",
      "source": [
        "from google.colab import drive\n",
        "drive.mount('/content/drive')"
      ],
      "metadata": {
        "colab": {
          "base_uri": "https://localhost:8080/"
        },
        "id": "KtJIRnGzeryK",
        "outputId": "29869069-bd9b-45e8-efb8-6b21aec5d44a"
      },
      "execution_count": 23,
      "outputs": [
        {
          "output_type": "stream",
          "name": "stdout",
          "text": [
            "Drive already mounted at /content/drive; to attempt to forcibly remount, call drive.mount(\"/content/drive\", force_remount=True).\n"
          ]
        }
      ]
    },
    {
      "cell_type": "markdown",
      "source": [
        "## Standard Scaler"
      ],
      "metadata": {
        "id": "EUR1-bDakedS"
      }
    },
    {
      "cell_type": "code",
      "source": [
        "df= pd.read_csv('/content/drive/MyDrive/시소프로젝트/1-1 excellent 컷오프 완료.csv',index_col=0)\n",
        "df.reset_index()\n",
        "df.head(1)"
      ],
      "metadata": {
        "colab": {
          "base_uri": "https://localhost:8080/",
          "height": 223
        },
        "id": "JayKDAC8DFD3",
        "outputId": "49c8ecbf-19d5-4d79-d76f-62367a367475"
      },
      "execution_count": 24,
      "outputs": [
        {
          "output_type": "execute_result",
          "data": {
            "text/plain": [
              "   자치구    동       센터명  공원수  도서관수  병원수  배움터수  동별강좌정원  사고건수     독거노인포함  ...  \\\n",
              "1  종로구  사직동  사직동 주민센터  1.0   2.0  0.0   0.0    50.0   0.0  1087370.0  ...   \n",
              "\n",
              "    일반  65세이상고령자  전연령별독거노인비율  노인인구별독거노인비율          X           Y  \\\n",
              "1  520      1843    6.016724    32.013022  37.576191  126.968829   \n",
              "\n",
              "         위도UTMK         경도UTMK  디지털정보지수  총합 9  \n",
              "1  1.952806e+06  953286.588072  9168.42  62.0  \n",
              "\n",
              "[1 rows x 22 columns]"
            ],
            "text/html": [
              "\n",
              "  <div id=\"df-f13320f4-b363-4388-ac54-bc791f8087b5\">\n",
              "    <div class=\"colab-df-container\">\n",
              "      <div>\n",
              "<style scoped>\n",
              "    .dataframe tbody tr th:only-of-type {\n",
              "        vertical-align: middle;\n",
              "    }\n",
              "\n",
              "    .dataframe tbody tr th {\n",
              "        vertical-align: top;\n",
              "    }\n",
              "\n",
              "    .dataframe thead th {\n",
              "        text-align: right;\n",
              "    }\n",
              "</style>\n",
              "<table border=\"1\" class=\"dataframe\">\n",
              "  <thead>\n",
              "    <tr style=\"text-align: right;\">\n",
              "      <th></th>\n",
              "      <th>자치구</th>\n",
              "      <th>동</th>\n",
              "      <th>센터명</th>\n",
              "      <th>공원수</th>\n",
              "      <th>도서관수</th>\n",
              "      <th>병원수</th>\n",
              "      <th>배움터수</th>\n",
              "      <th>동별강좌정원</th>\n",
              "      <th>사고건수</th>\n",
              "      <th>독거노인포함</th>\n",
              "      <th>...</th>\n",
              "      <th>일반</th>\n",
              "      <th>65세이상고령자</th>\n",
              "      <th>전연령별독거노인비율</th>\n",
              "      <th>노인인구별독거노인비율</th>\n",
              "      <th>X</th>\n",
              "      <th>Y</th>\n",
              "      <th>위도UTMK</th>\n",
              "      <th>경도UTMK</th>\n",
              "      <th>디지털정보지수</th>\n",
              "      <th>총합 9</th>\n",
              "    </tr>\n",
              "  </thead>\n",
              "  <tbody>\n",
              "    <tr>\n",
              "      <th>1</th>\n",
              "      <td>종로구</td>\n",
              "      <td>사직동</td>\n",
              "      <td>사직동 주민센터</td>\n",
              "      <td>1.0</td>\n",
              "      <td>2.0</td>\n",
              "      <td>0.0</td>\n",
              "      <td>0.0</td>\n",
              "      <td>50.0</td>\n",
              "      <td>0.0</td>\n",
              "      <td>1087370.0</td>\n",
              "      <td>...</td>\n",
              "      <td>520</td>\n",
              "      <td>1843</td>\n",
              "      <td>6.016724</td>\n",
              "      <td>32.013022</td>\n",
              "      <td>37.576191</td>\n",
              "      <td>126.968829</td>\n",
              "      <td>1.952806e+06</td>\n",
              "      <td>953286.588072</td>\n",
              "      <td>9168.42</td>\n",
              "      <td>62.0</td>\n",
              "    </tr>\n",
              "  </tbody>\n",
              "</table>\n",
              "<p>1 rows × 22 columns</p>\n",
              "</div>\n",
              "      <button class=\"colab-df-convert\" onclick=\"convertToInteractive('df-f13320f4-b363-4388-ac54-bc791f8087b5')\"\n",
              "              title=\"Convert this dataframe to an interactive table.\"\n",
              "              style=\"display:none;\">\n",
              "        \n",
              "  <svg xmlns=\"http://www.w3.org/2000/svg\" height=\"24px\"viewBox=\"0 0 24 24\"\n",
              "       width=\"24px\">\n",
              "    <path d=\"M0 0h24v24H0V0z\" fill=\"none\"/>\n",
              "    <path d=\"M18.56 5.44l.94 2.06.94-2.06 2.06-.94-2.06-.94-.94-2.06-.94 2.06-2.06.94zm-11 1L8.5 8.5l.94-2.06 2.06-.94-2.06-.94L8.5 2.5l-.94 2.06-2.06.94zm10 10l.94 2.06.94-2.06 2.06-.94-2.06-.94-.94-2.06-.94 2.06-2.06.94z\"/><path d=\"M17.41 7.96l-1.37-1.37c-.4-.4-.92-.59-1.43-.59-.52 0-1.04.2-1.43.59L10.3 9.45l-7.72 7.72c-.78.78-.78 2.05 0 2.83L4 21.41c.39.39.9.59 1.41.59.51 0 1.02-.2 1.41-.59l7.78-7.78 2.81-2.81c.8-.78.8-2.07 0-2.86zM5.41 20L4 18.59l7.72-7.72 1.47 1.35L5.41 20z\"/>\n",
              "  </svg>\n",
              "      </button>\n",
              "      \n",
              "  <style>\n",
              "    .colab-df-container {\n",
              "      display:flex;\n",
              "      flex-wrap:wrap;\n",
              "      gap: 12px;\n",
              "    }\n",
              "\n",
              "    .colab-df-convert {\n",
              "      background-color: #E8F0FE;\n",
              "      border: none;\n",
              "      border-radius: 50%;\n",
              "      cursor: pointer;\n",
              "      display: none;\n",
              "      fill: #1967D2;\n",
              "      height: 32px;\n",
              "      padding: 0 0 0 0;\n",
              "      width: 32px;\n",
              "    }\n",
              "\n",
              "    .colab-df-convert:hover {\n",
              "      background-color: #E2EBFA;\n",
              "      box-shadow: 0px 1px 2px rgba(60, 64, 67, 0.3), 0px 1px 3px 1px rgba(60, 64, 67, 0.15);\n",
              "      fill: #174EA6;\n",
              "    }\n",
              "\n",
              "    [theme=dark] .colab-df-convert {\n",
              "      background-color: #3B4455;\n",
              "      fill: #D2E3FC;\n",
              "    }\n",
              "\n",
              "    [theme=dark] .colab-df-convert:hover {\n",
              "      background-color: #434B5C;\n",
              "      box-shadow: 0px 1px 3px 1px rgba(0, 0, 0, 0.15);\n",
              "      filter: drop-shadow(0px 1px 2px rgba(0, 0, 0, 0.3));\n",
              "      fill: #FFFFFF;\n",
              "    }\n",
              "  </style>\n",
              "\n",
              "      <script>\n",
              "        const buttonEl =\n",
              "          document.querySelector('#df-f13320f4-b363-4388-ac54-bc791f8087b5 button.colab-df-convert');\n",
              "        buttonEl.style.display =\n",
              "          google.colab.kernel.accessAllowed ? 'block' : 'none';\n",
              "\n",
              "        async function convertToInteractive(key) {\n",
              "          const element = document.querySelector('#df-f13320f4-b363-4388-ac54-bc791f8087b5');\n",
              "          const dataTable =\n",
              "            await google.colab.kernel.invokeFunction('convertToInteractive',\n",
              "                                                     [key], {});\n",
              "          if (!dataTable) return;\n",
              "\n",
              "          const docLinkHtml = 'Like what you see? Visit the ' +\n",
              "            '<a target=\"_blank\" href=https://colab.research.google.com/notebooks/data_table.ipynb>data table notebook</a>'\n",
              "            + ' to learn more about interactive tables.';\n",
              "          element.innerHTML = '';\n",
              "          dataTable['output_type'] = 'display_data';\n",
              "          await google.colab.output.renderOutput(dataTable, element);\n",
              "          const docLink = document.createElement('div');\n",
              "          docLink.innerHTML = docLinkHtml;\n",
              "          element.appendChild(docLink);\n",
              "        }\n",
              "      </script>\n",
              "    </div>\n",
              "  </div>\n",
              "  "
            ]
          },
          "metadata": {},
          "execution_count": 24
        }
      ]
    },
    {
      "cell_type": "code",
      "source": [
        "df2 = df.iloc[:,3:]\n",
        "df2.head(1)"
      ],
      "metadata": {
        "colab": {
          "base_uri": "https://localhost:8080/",
          "height": 142
        },
        "id": "UwRAatvECvxP",
        "outputId": "fbc892fd-d070-4ac4-890d-baf6a68f46e3"
      },
      "execution_count": 25,
      "outputs": [
        {
          "output_type": "execute_result",
          "data": {
            "text/plain": [
              "   공원수  도서관수  병원수  배움터수  동별강좌정원  사고건수     독거노인포함  대중교통   합계   일반  65세이상고령자  \\\n",
              "1  1.0   2.0  0.0   0.0    50.0   0.0  1087370.0   1.0  590  520      1843   \n",
              "\n",
              "   전연령별독거노인비율  노인인구별독거노인비율          X           Y        위도UTMK  \\\n",
              "1    6.016724    32.013022  37.576191  126.968829  1.952806e+06   \n",
              "\n",
              "          경도UTMK  디지털정보지수  총합 9  \n",
              "1  953286.588072  9168.42  62.0  "
            ],
            "text/html": [
              "\n",
              "  <div id=\"df-e01df733-4c73-47c4-b89f-539963826268\">\n",
              "    <div class=\"colab-df-container\">\n",
              "      <div>\n",
              "<style scoped>\n",
              "    .dataframe tbody tr th:only-of-type {\n",
              "        vertical-align: middle;\n",
              "    }\n",
              "\n",
              "    .dataframe tbody tr th {\n",
              "        vertical-align: top;\n",
              "    }\n",
              "\n",
              "    .dataframe thead th {\n",
              "        text-align: right;\n",
              "    }\n",
              "</style>\n",
              "<table border=\"1\" class=\"dataframe\">\n",
              "  <thead>\n",
              "    <tr style=\"text-align: right;\">\n",
              "      <th></th>\n",
              "      <th>공원수</th>\n",
              "      <th>도서관수</th>\n",
              "      <th>병원수</th>\n",
              "      <th>배움터수</th>\n",
              "      <th>동별강좌정원</th>\n",
              "      <th>사고건수</th>\n",
              "      <th>독거노인포함</th>\n",
              "      <th>대중교통</th>\n",
              "      <th>합계</th>\n",
              "      <th>일반</th>\n",
              "      <th>65세이상고령자</th>\n",
              "      <th>전연령별독거노인비율</th>\n",
              "      <th>노인인구별독거노인비율</th>\n",
              "      <th>X</th>\n",
              "      <th>Y</th>\n",
              "      <th>위도UTMK</th>\n",
              "      <th>경도UTMK</th>\n",
              "      <th>디지털정보지수</th>\n",
              "      <th>총합 9</th>\n",
              "    </tr>\n",
              "  </thead>\n",
              "  <tbody>\n",
              "    <tr>\n",
              "      <th>1</th>\n",
              "      <td>1.0</td>\n",
              "      <td>2.0</td>\n",
              "      <td>0.0</td>\n",
              "      <td>0.0</td>\n",
              "      <td>50.0</td>\n",
              "      <td>0.0</td>\n",
              "      <td>1087370.0</td>\n",
              "      <td>1.0</td>\n",
              "      <td>590</td>\n",
              "      <td>520</td>\n",
              "      <td>1843</td>\n",
              "      <td>6.016724</td>\n",
              "      <td>32.013022</td>\n",
              "      <td>37.576191</td>\n",
              "      <td>126.968829</td>\n",
              "      <td>1.952806e+06</td>\n",
              "      <td>953286.588072</td>\n",
              "      <td>9168.42</td>\n",
              "      <td>62.0</td>\n",
              "    </tr>\n",
              "  </tbody>\n",
              "</table>\n",
              "</div>\n",
              "      <button class=\"colab-df-convert\" onclick=\"convertToInteractive('df-e01df733-4c73-47c4-b89f-539963826268')\"\n",
              "              title=\"Convert this dataframe to an interactive table.\"\n",
              "              style=\"display:none;\">\n",
              "        \n",
              "  <svg xmlns=\"http://www.w3.org/2000/svg\" height=\"24px\"viewBox=\"0 0 24 24\"\n",
              "       width=\"24px\">\n",
              "    <path d=\"M0 0h24v24H0V0z\" fill=\"none\"/>\n",
              "    <path d=\"M18.56 5.44l.94 2.06.94-2.06 2.06-.94-2.06-.94-.94-2.06-.94 2.06-2.06.94zm-11 1L8.5 8.5l.94-2.06 2.06-.94-2.06-.94L8.5 2.5l-.94 2.06-2.06.94zm10 10l.94 2.06.94-2.06 2.06-.94-2.06-.94-.94-2.06-.94 2.06-2.06.94z\"/><path d=\"M17.41 7.96l-1.37-1.37c-.4-.4-.92-.59-1.43-.59-.52 0-1.04.2-1.43.59L10.3 9.45l-7.72 7.72c-.78.78-.78 2.05 0 2.83L4 21.41c.39.39.9.59 1.41.59.51 0 1.02-.2 1.41-.59l7.78-7.78 2.81-2.81c.8-.78.8-2.07 0-2.86zM5.41 20L4 18.59l7.72-7.72 1.47 1.35L5.41 20z\"/>\n",
              "  </svg>\n",
              "      </button>\n",
              "      \n",
              "  <style>\n",
              "    .colab-df-container {\n",
              "      display:flex;\n",
              "      flex-wrap:wrap;\n",
              "      gap: 12px;\n",
              "    }\n",
              "\n",
              "    .colab-df-convert {\n",
              "      background-color: #E8F0FE;\n",
              "      border: none;\n",
              "      border-radius: 50%;\n",
              "      cursor: pointer;\n",
              "      display: none;\n",
              "      fill: #1967D2;\n",
              "      height: 32px;\n",
              "      padding: 0 0 0 0;\n",
              "      width: 32px;\n",
              "    }\n",
              "\n",
              "    .colab-df-convert:hover {\n",
              "      background-color: #E2EBFA;\n",
              "      box-shadow: 0px 1px 2px rgba(60, 64, 67, 0.3), 0px 1px 3px 1px rgba(60, 64, 67, 0.15);\n",
              "      fill: #174EA6;\n",
              "    }\n",
              "\n",
              "    [theme=dark] .colab-df-convert {\n",
              "      background-color: #3B4455;\n",
              "      fill: #D2E3FC;\n",
              "    }\n",
              "\n",
              "    [theme=dark] .colab-df-convert:hover {\n",
              "      background-color: #434B5C;\n",
              "      box-shadow: 0px 1px 3px 1px rgba(0, 0, 0, 0.15);\n",
              "      filter: drop-shadow(0px 1px 2px rgba(0, 0, 0, 0.3));\n",
              "      fill: #FFFFFF;\n",
              "    }\n",
              "  </style>\n",
              "\n",
              "      <script>\n",
              "        const buttonEl =\n",
              "          document.querySelector('#df-e01df733-4c73-47c4-b89f-539963826268 button.colab-df-convert');\n",
              "        buttonEl.style.display =\n",
              "          google.colab.kernel.accessAllowed ? 'block' : 'none';\n",
              "\n",
              "        async function convertToInteractive(key) {\n",
              "          const element = document.querySelector('#df-e01df733-4c73-47c4-b89f-539963826268');\n",
              "          const dataTable =\n",
              "            await google.colab.kernel.invokeFunction('convertToInteractive',\n",
              "                                                     [key], {});\n",
              "          if (!dataTable) return;\n",
              "\n",
              "          const docLinkHtml = 'Like what you see? Visit the ' +\n",
              "            '<a target=\"_blank\" href=https://colab.research.google.com/notebooks/data_table.ipynb>data table notebook</a>'\n",
              "            + ' to learn more about interactive tables.';\n",
              "          element.innerHTML = '';\n",
              "          dataTable['output_type'] = 'display_data';\n",
              "          await google.colab.output.renderOutput(dataTable, element);\n",
              "          const docLink = document.createElement('div');\n",
              "          docLink.innerHTML = docLinkHtml;\n",
              "          element.appendChild(docLink);\n",
              "        }\n",
              "      </script>\n",
              "    </div>\n",
              "  </div>\n",
              "  "
            ]
          },
          "metadata": {},
          "execution_count": 25
        }
      ]
    },
    {
      "cell_type": "code",
      "source": [
        "column = df2.columns\n",
        "column"
      ],
      "metadata": {
        "colab": {
          "base_uri": "https://localhost:8080/"
        },
        "id": "gn5K_YwcDaxT",
        "outputId": "6c00f032-2c5f-4df0-f193-17967a2dda65"
      },
      "execution_count": 26,
      "outputs": [
        {
          "output_type": "execute_result",
          "data": {
            "text/plain": [
              "Index(['공원수', '도서관수', '병원수', '배움터수', '동별강좌정원', '사고건수', '독거노인포함', '대중교통', '합계',\n",
              "       '일반', '65세이상고령자', '전연령별독거노인비율', '노인인구별독거노인비율', 'X', 'Y', '위도UTMK',\n",
              "       '경도UTMK', '디지털정보지수', '총합 9'],\n",
              "      dtype='object')"
            ]
          },
          "metadata": {},
          "execution_count": 26
        }
      ]
    },
    {
      "cell_type": "code",
      "source": [
        "scaler = StandardScaler()\n",
        "df2_scaled = scaler.fit_transform(df2)\n",
        "df2_scaled = pd.DataFrame(df2_scaled, columns = column)\n",
        "df2_scaled.head(1)"
      ],
      "metadata": {
        "colab": {
          "base_uri": "https://localhost:8080/",
          "height": 197
        },
        "id": "oDv2nDADBm2H",
        "outputId": "99eaf50c-6d4f-48d1-b519-e55ad20efc3e"
      },
      "execution_count": 27,
      "outputs": [
        {
          "output_type": "execute_result",
          "data": {
            "text/plain": [
              "        공원수      도서관수       병원수      배움터수    동별강좌정원      사고건수    독거노인포함  \\\n",
              "0  1.995322  2.103655 -0.314159 -0.466936 -0.746355 -0.176186 -1.136415   \n",
              "\n",
              "       대중교통        합계        일반  65세이상고령자  전연령별독거노인비율  노인인구별독거노인비율        X  \\\n",
              "0 -0.447988 -1.096052 -0.691643 -1.636607    0.925393      1.00287  0.38401   \n",
              "\n",
              "          Y    위도UTMK    경도UTMK   디지털정보지수      총합 9  \n",
              "0 -0.288785  0.386124 -0.286411 -1.618131 -0.391469  "
            ],
            "text/html": [
              "\n",
              "  <div id=\"df-7eb6c0ec-db10-4eda-996f-9b343e92ba32\">\n",
              "    <div class=\"colab-df-container\">\n",
              "      <div>\n",
              "<style scoped>\n",
              "    .dataframe tbody tr th:only-of-type {\n",
              "        vertical-align: middle;\n",
              "    }\n",
              "\n",
              "    .dataframe tbody tr th {\n",
              "        vertical-align: top;\n",
              "    }\n",
              "\n",
              "    .dataframe thead th {\n",
              "        text-align: right;\n",
              "    }\n",
              "</style>\n",
              "<table border=\"1\" class=\"dataframe\">\n",
              "  <thead>\n",
              "    <tr style=\"text-align: right;\">\n",
              "      <th></th>\n",
              "      <th>공원수</th>\n",
              "      <th>도서관수</th>\n",
              "      <th>병원수</th>\n",
              "      <th>배움터수</th>\n",
              "      <th>동별강좌정원</th>\n",
              "      <th>사고건수</th>\n",
              "      <th>독거노인포함</th>\n",
              "      <th>대중교통</th>\n",
              "      <th>합계</th>\n",
              "      <th>일반</th>\n",
              "      <th>65세이상고령자</th>\n",
              "      <th>전연령별독거노인비율</th>\n",
              "      <th>노인인구별독거노인비율</th>\n",
              "      <th>X</th>\n",
              "      <th>Y</th>\n",
              "      <th>위도UTMK</th>\n",
              "      <th>경도UTMK</th>\n",
              "      <th>디지털정보지수</th>\n",
              "      <th>총합 9</th>\n",
              "    </tr>\n",
              "  </thead>\n",
              "  <tbody>\n",
              "    <tr>\n",
              "      <th>0</th>\n",
              "      <td>1.995322</td>\n",
              "      <td>2.103655</td>\n",
              "      <td>-0.314159</td>\n",
              "      <td>-0.466936</td>\n",
              "      <td>-0.746355</td>\n",
              "      <td>-0.176186</td>\n",
              "      <td>-1.136415</td>\n",
              "      <td>-0.447988</td>\n",
              "      <td>-1.096052</td>\n",
              "      <td>-0.691643</td>\n",
              "      <td>-1.636607</td>\n",
              "      <td>0.925393</td>\n",
              "      <td>1.00287</td>\n",
              "      <td>0.38401</td>\n",
              "      <td>-0.288785</td>\n",
              "      <td>0.386124</td>\n",
              "      <td>-0.286411</td>\n",
              "      <td>-1.618131</td>\n",
              "      <td>-0.391469</td>\n",
              "    </tr>\n",
              "  </tbody>\n",
              "</table>\n",
              "</div>\n",
              "      <button class=\"colab-df-convert\" onclick=\"convertToInteractive('df-7eb6c0ec-db10-4eda-996f-9b343e92ba32')\"\n",
              "              title=\"Convert this dataframe to an interactive table.\"\n",
              "              style=\"display:none;\">\n",
              "        \n",
              "  <svg xmlns=\"http://www.w3.org/2000/svg\" height=\"24px\"viewBox=\"0 0 24 24\"\n",
              "       width=\"24px\">\n",
              "    <path d=\"M0 0h24v24H0V0z\" fill=\"none\"/>\n",
              "    <path d=\"M18.56 5.44l.94 2.06.94-2.06 2.06-.94-2.06-.94-.94-2.06-.94 2.06-2.06.94zm-11 1L8.5 8.5l.94-2.06 2.06-.94-2.06-.94L8.5 2.5l-.94 2.06-2.06.94zm10 10l.94 2.06.94-2.06 2.06-.94-2.06-.94-.94-2.06-.94 2.06-2.06.94z\"/><path d=\"M17.41 7.96l-1.37-1.37c-.4-.4-.92-.59-1.43-.59-.52 0-1.04.2-1.43.59L10.3 9.45l-7.72 7.72c-.78.78-.78 2.05 0 2.83L4 21.41c.39.39.9.59 1.41.59.51 0 1.02-.2 1.41-.59l7.78-7.78 2.81-2.81c.8-.78.8-2.07 0-2.86zM5.41 20L4 18.59l7.72-7.72 1.47 1.35L5.41 20z\"/>\n",
              "  </svg>\n",
              "      </button>\n",
              "      \n",
              "  <style>\n",
              "    .colab-df-container {\n",
              "      display:flex;\n",
              "      flex-wrap:wrap;\n",
              "      gap: 12px;\n",
              "    }\n",
              "\n",
              "    .colab-df-convert {\n",
              "      background-color: #E8F0FE;\n",
              "      border: none;\n",
              "      border-radius: 50%;\n",
              "      cursor: pointer;\n",
              "      display: none;\n",
              "      fill: #1967D2;\n",
              "      height: 32px;\n",
              "      padding: 0 0 0 0;\n",
              "      width: 32px;\n",
              "    }\n",
              "\n",
              "    .colab-df-convert:hover {\n",
              "      background-color: #E2EBFA;\n",
              "      box-shadow: 0px 1px 2px rgba(60, 64, 67, 0.3), 0px 1px 3px 1px rgba(60, 64, 67, 0.15);\n",
              "      fill: #174EA6;\n",
              "    }\n",
              "\n",
              "    [theme=dark] .colab-df-convert {\n",
              "      background-color: #3B4455;\n",
              "      fill: #D2E3FC;\n",
              "    }\n",
              "\n",
              "    [theme=dark] .colab-df-convert:hover {\n",
              "      background-color: #434B5C;\n",
              "      box-shadow: 0px 1px 3px 1px rgba(0, 0, 0, 0.15);\n",
              "      filter: drop-shadow(0px 1px 2px rgba(0, 0, 0, 0.3));\n",
              "      fill: #FFFFFF;\n",
              "    }\n",
              "  </style>\n",
              "\n",
              "      <script>\n",
              "        const buttonEl =\n",
              "          document.querySelector('#df-7eb6c0ec-db10-4eda-996f-9b343e92ba32 button.colab-df-convert');\n",
              "        buttonEl.style.display =\n",
              "          google.colab.kernel.accessAllowed ? 'block' : 'none';\n",
              "\n",
              "        async function convertToInteractive(key) {\n",
              "          const element = document.querySelector('#df-7eb6c0ec-db10-4eda-996f-9b343e92ba32');\n",
              "          const dataTable =\n",
              "            await google.colab.kernel.invokeFunction('convertToInteractive',\n",
              "                                                     [key], {});\n",
              "          if (!dataTable) return;\n",
              "\n",
              "          const docLinkHtml = 'Like what you see? Visit the ' +\n",
              "            '<a target=\"_blank\" href=https://colab.research.google.com/notebooks/data_table.ipynb>data table notebook</a>'\n",
              "            + ' to learn more about interactive tables.';\n",
              "          element.innerHTML = '';\n",
              "          dataTable['output_type'] = 'display_data';\n",
              "          await google.colab.output.renderOutput(dataTable, element);\n",
              "          const docLink = document.createElement('div');\n",
              "          docLink.innerHTML = docLinkHtml;\n",
              "          element.appendChild(docLink);\n",
              "        }\n",
              "      </script>\n",
              "    </div>\n",
              "  </div>\n",
              "  "
            ]
          },
          "metadata": {},
          "execution_count": 27
        }
      ]
    },
    {
      "cell_type": "code",
      "source": [
        "df3 = df2_scaled.copy()\n",
        "df3.head(1)"
      ],
      "metadata": {
        "colab": {
          "base_uri": "https://localhost:8080/",
          "height": 197
        },
        "id": "WY3tes4oDhB9",
        "outputId": "ddc86e3b-16a2-4eea-914a-fd9cca878956"
      },
      "execution_count": 28,
      "outputs": [
        {
          "output_type": "execute_result",
          "data": {
            "text/plain": [
              "        공원수      도서관수       병원수      배움터수    동별강좌정원      사고건수    독거노인포함  \\\n",
              "0  1.995322  2.103655 -0.314159 -0.466936 -0.746355 -0.176186 -1.136415   \n",
              "\n",
              "       대중교통        합계        일반  65세이상고령자  전연령별독거노인비율  노인인구별독거노인비율        X  \\\n",
              "0 -0.447988 -1.096052 -0.691643 -1.636607    0.925393      1.00287  0.38401   \n",
              "\n",
              "          Y    위도UTMK    경도UTMK   디지털정보지수      총합 9  \n",
              "0 -0.288785  0.386124 -0.286411 -1.618131 -0.391469  "
            ],
            "text/html": [
              "\n",
              "  <div id=\"df-1797a1f1-fe37-4183-9bd8-a70f681f8d25\">\n",
              "    <div class=\"colab-df-container\">\n",
              "      <div>\n",
              "<style scoped>\n",
              "    .dataframe tbody tr th:only-of-type {\n",
              "        vertical-align: middle;\n",
              "    }\n",
              "\n",
              "    .dataframe tbody tr th {\n",
              "        vertical-align: top;\n",
              "    }\n",
              "\n",
              "    .dataframe thead th {\n",
              "        text-align: right;\n",
              "    }\n",
              "</style>\n",
              "<table border=\"1\" class=\"dataframe\">\n",
              "  <thead>\n",
              "    <tr style=\"text-align: right;\">\n",
              "      <th></th>\n",
              "      <th>공원수</th>\n",
              "      <th>도서관수</th>\n",
              "      <th>병원수</th>\n",
              "      <th>배움터수</th>\n",
              "      <th>동별강좌정원</th>\n",
              "      <th>사고건수</th>\n",
              "      <th>독거노인포함</th>\n",
              "      <th>대중교통</th>\n",
              "      <th>합계</th>\n",
              "      <th>일반</th>\n",
              "      <th>65세이상고령자</th>\n",
              "      <th>전연령별독거노인비율</th>\n",
              "      <th>노인인구별독거노인비율</th>\n",
              "      <th>X</th>\n",
              "      <th>Y</th>\n",
              "      <th>위도UTMK</th>\n",
              "      <th>경도UTMK</th>\n",
              "      <th>디지털정보지수</th>\n",
              "      <th>총합 9</th>\n",
              "    </tr>\n",
              "  </thead>\n",
              "  <tbody>\n",
              "    <tr>\n",
              "      <th>0</th>\n",
              "      <td>1.995322</td>\n",
              "      <td>2.103655</td>\n",
              "      <td>-0.314159</td>\n",
              "      <td>-0.466936</td>\n",
              "      <td>-0.746355</td>\n",
              "      <td>-0.176186</td>\n",
              "      <td>-1.136415</td>\n",
              "      <td>-0.447988</td>\n",
              "      <td>-1.096052</td>\n",
              "      <td>-0.691643</td>\n",
              "      <td>-1.636607</td>\n",
              "      <td>0.925393</td>\n",
              "      <td>1.00287</td>\n",
              "      <td>0.38401</td>\n",
              "      <td>-0.288785</td>\n",
              "      <td>0.386124</td>\n",
              "      <td>-0.286411</td>\n",
              "      <td>-1.618131</td>\n",
              "      <td>-0.391469</td>\n",
              "    </tr>\n",
              "  </tbody>\n",
              "</table>\n",
              "</div>\n",
              "      <button class=\"colab-df-convert\" onclick=\"convertToInteractive('df-1797a1f1-fe37-4183-9bd8-a70f681f8d25')\"\n",
              "              title=\"Convert this dataframe to an interactive table.\"\n",
              "              style=\"display:none;\">\n",
              "        \n",
              "  <svg xmlns=\"http://www.w3.org/2000/svg\" height=\"24px\"viewBox=\"0 0 24 24\"\n",
              "       width=\"24px\">\n",
              "    <path d=\"M0 0h24v24H0V0z\" fill=\"none\"/>\n",
              "    <path d=\"M18.56 5.44l.94 2.06.94-2.06 2.06-.94-2.06-.94-.94-2.06-.94 2.06-2.06.94zm-11 1L8.5 8.5l.94-2.06 2.06-.94-2.06-.94L8.5 2.5l-.94 2.06-2.06.94zm10 10l.94 2.06.94-2.06 2.06-.94-2.06-.94-.94-2.06-.94 2.06-2.06.94z\"/><path d=\"M17.41 7.96l-1.37-1.37c-.4-.4-.92-.59-1.43-.59-.52 0-1.04.2-1.43.59L10.3 9.45l-7.72 7.72c-.78.78-.78 2.05 0 2.83L4 21.41c.39.39.9.59 1.41.59.51 0 1.02-.2 1.41-.59l7.78-7.78 2.81-2.81c.8-.78.8-2.07 0-2.86zM5.41 20L4 18.59l7.72-7.72 1.47 1.35L5.41 20z\"/>\n",
              "  </svg>\n",
              "      </button>\n",
              "      \n",
              "  <style>\n",
              "    .colab-df-container {\n",
              "      display:flex;\n",
              "      flex-wrap:wrap;\n",
              "      gap: 12px;\n",
              "    }\n",
              "\n",
              "    .colab-df-convert {\n",
              "      background-color: #E8F0FE;\n",
              "      border: none;\n",
              "      border-radius: 50%;\n",
              "      cursor: pointer;\n",
              "      display: none;\n",
              "      fill: #1967D2;\n",
              "      height: 32px;\n",
              "      padding: 0 0 0 0;\n",
              "      width: 32px;\n",
              "    }\n",
              "\n",
              "    .colab-df-convert:hover {\n",
              "      background-color: #E2EBFA;\n",
              "      box-shadow: 0px 1px 2px rgba(60, 64, 67, 0.3), 0px 1px 3px 1px rgba(60, 64, 67, 0.15);\n",
              "      fill: #174EA6;\n",
              "    }\n",
              "\n",
              "    [theme=dark] .colab-df-convert {\n",
              "      background-color: #3B4455;\n",
              "      fill: #D2E3FC;\n",
              "    }\n",
              "\n",
              "    [theme=dark] .colab-df-convert:hover {\n",
              "      background-color: #434B5C;\n",
              "      box-shadow: 0px 1px 3px 1px rgba(0, 0, 0, 0.15);\n",
              "      filter: drop-shadow(0px 1px 2px rgba(0, 0, 0, 0.3));\n",
              "      fill: #FFFFFF;\n",
              "    }\n",
              "  </style>\n",
              "\n",
              "      <script>\n",
              "        const buttonEl =\n",
              "          document.querySelector('#df-1797a1f1-fe37-4183-9bd8-a70f681f8d25 button.colab-df-convert');\n",
              "        buttonEl.style.display =\n",
              "          google.colab.kernel.accessAllowed ? 'block' : 'none';\n",
              "\n",
              "        async function convertToInteractive(key) {\n",
              "          const element = document.querySelector('#df-1797a1f1-fe37-4183-9bd8-a70f681f8d25');\n",
              "          const dataTable =\n",
              "            await google.colab.kernel.invokeFunction('convertToInteractive',\n",
              "                                                     [key], {});\n",
              "          if (!dataTable) return;\n",
              "\n",
              "          const docLinkHtml = 'Like what you see? Visit the ' +\n",
              "            '<a target=\"_blank\" href=https://colab.research.google.com/notebooks/data_table.ipynb>data table notebook</a>'\n",
              "            + ' to learn more about interactive tables.';\n",
              "          element.innerHTML = '';\n",
              "          dataTable['output_type'] = 'display_data';\n",
              "          await google.colab.output.renderOutput(dataTable, element);\n",
              "          const docLink = document.createElement('div');\n",
              "          docLink.innerHTML = docLinkHtml;\n",
              "          element.appendChild(docLink);\n",
              "        }\n",
              "      </script>\n",
              "    </div>\n",
              "  </div>\n",
              "  "
            ]
          },
          "metadata": {},
          "execution_count": 28
        }
      ]
    },
    {
      "cell_type": "markdown",
      "source": [
        "## Hierarchical"
      ],
      "metadata": {
        "id": "edn86Y1HQXHx"
      }
    },
    {
      "cell_type": "code",
      "source": [
        "final_sc = df2.copy()\n",
        "X_sc = df2_scaled.copy()"
      ],
      "metadata": {
        "id": "6NAbNDonE2I1"
      },
      "execution_count": 29,
      "outputs": []
    },
    {
      "cell_type": "code",
      "source": [
        "# sc 스케일링한 데이터 덴드로그램 그리기\n",
        "clusters = linkage(y=X_sc, method='complete', metric='euclidean')\n",
        "plt.figure(figsize=(40,20))\n",
        "\n",
        "dendrogram(clusters)\n",
        "plt.show()"
      ],
      "metadata": {
        "colab": {
          "base_uri": "https://localhost:8080/",
          "height": 679
        },
        "id": "55X8NZmjHvE-",
        "outputId": "ce904774-0ab7-4164-c4bc-4257fd6704cb"
      },
      "execution_count": 30,
      "outputs": [
        {
          "output_type": "display_data",
          "data": {
            "text/plain": [
              "<Figure size 2880x1440 with 1 Axes>"
            ],
            "image/png": "[encoded data removed]"
          },
          "metadata": {}
        }
      ]
    },
    {
      "cell_type": "code",
      "source": [
        "# 함수 만들기 -> 군집개수, 각 군집당 실루엣 계수, 분산\n",
        "def silhouette_hc(final_, X, t) :\n",
        "    clusters = linkage(y=X, method = 'complete', metric = 'euclidean')\n",
        "    #  complete linkage 방식은 두 클러스터상에서 가장 먼 거리를 이용해서 측정하는 방식\n",
        "    #  single linkage 방식은 두 클러스터에서 가장 가까운 거리를 사용하는 방식\n",
        "    cut_tree = fcluster(clusters, t = t, criterion = 'distance')\n",
        "    final_['cluster'] = cut_tree # 예측값 넣기 \n",
        "    final_['silhouette_coeff'] = silhouette_samples(X, final_['cluster'])\n",
        "    n_group = len(np.unique(final_['cluster']) )\n",
        "\n",
        "    avg_score = silhouette_score(X, final_['cluster'])\n",
        "    avg_by_count = final_.groupby('cluster')['silhouette_coeff'].count()\n",
        "    avg_by_cluster = final_.groupby('cluster')['silhouette_coeff'].mean()\n",
        "    var = np.var(final_sc['silhouette_coeff'])\n",
        "    \n",
        "    print('군집 계수 : ', n_group)\n",
        "    print('군집 개수 : ', avg_by_count)\n",
        "    print('실루엣평균 : ', avg_score)\n",
        "    print('군집 분산 : ', var)\n",
        "    print(avg_by_cluster)"
      ],
      "metadata": {
        "id": "u7pObqEFKaFE"
      },
      "execution_count": 31,
      "outputs": []
    },
    {
      "cell_type": "code",
      "source": [
        "# n_cluster가 \n",
        "silhouette_hc(final_sc, X_sc, t=14)"
      ],
      "metadata": {
        "colab": {
          "base_uri": "https://localhost:8080/"
        },
        "id": "H65lvU5pHwUz",
        "outputId": "d895aa0c-022a-44ed-c318-6d42b21ae656"
      },
      "execution_count": 43,
      "outputs": [
        {
          "output_type": "stream",
          "name": "stdout",
          "text": [
            "군집 계수 :    2\n",
            "군집 개수 :  cluster\n",
            "1      3\n",
            "2    329\n",
            "Name: silhouette_coeff, dtype: int64\n",
            "실루엣평균 :   0.4653739749063527\n",
            "군집 분산 :    0.011598786044605762\n",
            "cluster\n",
            "1    0.382252\n",
            "2    0.466132\n",
            "Name: silhouette_coeff, dtype: float64\n"
          ]
        }
      ]
    },
    {
      "cell_type": "code",
      "source": [
        "silhouette_hc(final_sc, X_sc, t=13)"
      ],
      "metadata": {
        "colab": {
          "base_uri": "https://localhost:8080/"
        },
        "id": "HutGacWFNfi9",
        "outputId": "1ddb58a9-24e8-4b0a-b4d7-78ab38fc6121"
      },
      "execution_count": 33,
      "outputs": [
        {
          "output_type": "stream",
          "name": "stdout",
          "text": [
            "군집 계수 :    3\n",
            "군집 개수 :  cluster\n",
            "1      3\n",
            "2      8\n",
            "3    321\n",
            "Name: silhouette_coeff, dtype: int64\n",
            "실루엣평균 :   0.267112082324448\n",
            "군집 분산 :    0.006015099195254364\n",
            "cluster\n",
            "1    0.380526\n",
            "2    0.340649\n",
            "3    0.264219\n",
            "Name: silhouette_coeff, dtype: float64\n"
          ]
        }
      ]
    },
    {
      "cell_type": "code",
      "source": [
        "silhouette_hc(final_sc, X_sc, t=12)"
      ],
      "metadata": {
        "colab": {
          "base_uri": "https://localhost:8080/"
        },
        "id": "uWq5xtU9QZhc",
        "outputId": "51382da8-97a4-4d3b-8f36-c489aa257ac6"
      },
      "execution_count": 34,
      "outputs": [
        {
          "output_type": "stream",
          "name": "stdout",
          "text": [
            "군집 계수 :    4\n",
            "군집 개수 :  cluster\n",
            "1      3\n",
            "2      8\n",
            "3     80\n",
            "4    241\n",
            "Name: silhouette_coeff, dtype: int64\n",
            "실루엣평균 :   0.1489525525028431\n",
            "군집 분산 :    0.014330570623612366\n",
            "cluster\n",
            "1    0.371264\n",
            "2    0.328283\n",
            "3    0.121739\n",
            "4    0.149266\n",
            "Name: silhouette_coeff, dtype: float64\n"
          ]
        }
      ]
    },
    {
      "cell_type": "code",
      "source": [
        "silhouette_hc(final_sc, X_sc, t=11)"
      ],
      "metadata": {
        "colab": {
          "base_uri": "https://localhost:8080/"
        },
        "id": "h0b5lgqMQuzU",
        "outputId": "c15fab2b-5d29-40e5-ad74-b2f1e756e86f"
      },
      "execution_count": 37,
      "outputs": [
        {
          "output_type": "stream",
          "name": "stdout",
          "text": [
            "군집 계수 :    5\n",
            "군집 개수 :  cluster\n",
            "1      3\n",
            "2      8\n",
            "3     80\n",
            "4     51\n",
            "5    190\n",
            "Name: silhouette_coeff, dtype: int64\n",
            "실루엣평균 :   0.07484737248726164\n",
            "군집 분산 :    0.01334568736468697\n",
            "cluster\n",
            "1    0.287520\n",
            "2    0.315148\n",
            "3    0.093575\n",
            "4    0.135373\n",
            "5    0.037240\n",
            "Name: silhouette_coeff, dtype: float64\n"
          ]
        }
      ]
    }
  ]
}
