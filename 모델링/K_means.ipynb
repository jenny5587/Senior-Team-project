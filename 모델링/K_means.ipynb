{
  "nbformat": 4,
  "nbformat_minor": 0,
  "metadata": {
    "colab": {
      "name": "K-means.ipynb",
      "provenance": [],
      "collapsed_sections": []
    },
    "kernelspec": {
      "name": "python3",
      "display_name": "Python 3"
    },
    "language_info": {
      "name": "python"
    }
  },
  "cells": [
    {
      "cell_type": "markdown",
      "source": [
        "#Imports"
      ],
      "metadata": {
        "id": "gdKzd9gvgwnk"
      }
    },
    {
      "cell_type": "code",
      "execution_count": 1,
      "metadata": {
        "id": "rierMH6JAett"
      },
      "outputs": [],
      "source": [
        "from sklearn.preprocessing import scale\n",
        "from sklearn.cluster import KMeans\n",
        "import matplotlib.pyplot as plt\n",
        "import numpy as np\n",
        "import pandas as pd\n",
        "\n",
        "# Clustering\n",
        "from scipy.cluster.hierarchy import linkage, dendrogram, fcluster\n",
        "\n",
        "# Scaling & silhouette\n",
        "from sklearn.preprocessing import StandardScaler\n",
        "from sklearn.metrics import silhouette_samples, silhouette_score,davies_bouldin_score\n",
        "from yellowbrick.cluster import SilhouetteVisualizer"
      ]
    },
    {
      "cell_type": "code",
      "source": [
        "from google.colab import drive\n",
        "drive.mount('/content/drive')"
      ],
      "metadata": {
        "colab": {
          "base_uri": "https://localhost:8080/"
        },
        "id": "KtJIRnGzeryK",
        "outputId": "9d44580a-0cc2-4edb-8333-ab22e5153545"
      },
      "execution_count": 2,
      "outputs": [
        {
          "output_type": "stream",
          "name": "stdout",
          "text": [
            "Mounted at /content/drive\n"
          ]
        }
      ]
    },
    {
      "cell_type": "markdown",
      "source": [
        "## Standard Scaler"
      ],
      "metadata": {
        "id": "EUR1-bDakedS"
      }
    },
    {
      "cell_type": "code",
      "source": [
        "df= pd.read_csv('/content/drive/MyDrive/시소프로젝트/1-1 excellent 컷오프 완료.csv',index_col=0)\n",
        "df.reset_index()\n",
        "df.head(1)"
      ],
      "metadata": {
        "colab": {
          "base_uri": "https://localhost:8080/",
          "height": 223
        },
        "id": "JayKDAC8DFD3",
        "outputId": "c4bc6b81-ee74-4918-ca4c-ba7d4f28f7b7"
      },
      "execution_count": 6,
      "outputs": [
        {
          "output_type": "execute_result",
          "data": {
            "text/plain": [
              "   자치구    동       센터명  공원수  도서관수  병원수  배움터수  동별강좌정원  사고건수     독거노인포함  ...  \\\n",
              "1  종로구  사직동  사직동 주민센터  1.0   2.0  0.0   0.0    50.0   0.0  1087370.0  ...   \n",
              "\n",
              "    일반  65세이상고령자  전연령별독거노인비율  노인인구별독거노인비율          X           Y  \\\n",
              "1  520      1843    6.016724    32.013022  37.576191  126.968829   \n",
              "\n",
              "         위도UTMK         경도UTMK  디지털정보지수  총합 9  \n",
              "1  1.952806e+06  953286.588072  9168.42  62.0  \n",
              "\n",
              "[1 rows x 22 columns]"
            ],
            "text/html": [
              "\n",
              "  <div id=\"df-2040fccd-1459-4f02-93f9-c37ea5ebf137\">\n",
              "    <div class=\"colab-df-container\">\n",
              "      <div>\n",
              "<style scoped>\n",
              "    .dataframe tbody tr th:only-of-type {\n",
              "        vertical-align: middle;\n",
              "    }\n",
              "\n",
              "    .dataframe tbody tr th {\n",
              "        vertical-align: top;\n",
              "    }\n",
              "\n",
              "    .dataframe thead th {\n",
              "        text-align: right;\n",
              "    }\n",
              "</style>\n",
              "<table border=\"1\" class=\"dataframe\">\n",
              "  <thead>\n",
              "    <tr style=\"text-align: right;\">\n",
              "      <th></th>\n",
              "      <th>자치구</th>\n",
              "      <th>동</th>\n",
              "      <th>센터명</th>\n",
              "      <th>공원수</th>\n",
              "      <th>도서관수</th>\n",
              "      <th>병원수</th>\n",
              "      <th>배움터수</th>\n",
              "      <th>동별강좌정원</th>\n",
              "      <th>사고건수</th>\n",
              "      <th>독거노인포함</th>\n",
              "      <th>...</th>\n",
              "      <th>일반</th>\n",
              "      <th>65세이상고령자</th>\n",
              "      <th>전연령별독거노인비율</th>\n",
              "      <th>노인인구별독거노인비율</th>\n",
              "      <th>X</th>\n",
              "      <th>Y</th>\n",
              "      <th>위도UTMK</th>\n",
              "      <th>경도UTMK</th>\n",
              "      <th>디지털정보지수</th>\n",
              "      <th>총합 9</th>\n",
              "    </tr>\n",
              "  </thead>\n",
              "  <tbody>\n",
              "    <tr>\n",
              "      <th>1</th>\n",
              "      <td>종로구</td>\n",
              "      <td>사직동</td>\n",
              "      <td>사직동 주민센터</td>\n",
              "      <td>1.0</td>\n",
              "      <td>2.0</td>\n",
              "      <td>0.0</td>\n",
              "      <td>0.0</td>\n",
              "      <td>50.0</td>\n",
              "      <td>0.0</td>\n",
              "      <td>1087370.0</td>\n",
              "      <td>...</td>\n",
              "      <td>520</td>\n",
              "      <td>1843</td>\n",
              "      <td>6.016724</td>\n",
              "      <td>32.013022</td>\n",
              "      <td>37.576191</td>\n",
              "      <td>126.968829</td>\n",
              "      <td>1.952806e+06</td>\n",
              "      <td>953286.588072</td>\n",
              "      <td>9168.42</td>\n",
              "      <td>62.0</td>\n",
              "    </tr>\n",
              "  </tbody>\n",
              "</table>\n",
              "<p>1 rows × 22 columns</p>\n",
              "</div>\n",
              "      <button class=\"colab-df-convert\" onclick=\"convertToInteractive('df-2040fccd-1459-4f02-93f9-c37ea5ebf137')\"\n",
              "              title=\"Convert this dataframe to an interactive table.\"\n",
              "              style=\"display:none;\">\n",
              "        \n",
              "  <svg xmlns=\"http://www.w3.org/2000/svg\" height=\"24px\"viewBox=\"0 0 24 24\"\n",
              "       width=\"24px\">\n",
              "    <path d=\"M0 0h24v24H0V0z\" fill=\"none\"/>\n",
              "    <path d=\"M18.56 5.44l.94 2.06.94-2.06 2.06-.94-2.06-.94-.94-2.06-.94 2.06-2.06.94zm-11 1L8.5 8.5l.94-2.06 2.06-.94-2.06-.94L8.5 2.5l-.94 2.06-2.06.94zm10 10l.94 2.06.94-2.06 2.06-.94-2.06-.94-.94-2.06-.94 2.06-2.06.94z\"/><path d=\"M17.41 7.96l-1.37-1.37c-.4-.4-.92-.59-1.43-.59-.52 0-1.04.2-1.43.59L10.3 9.45l-7.72 7.72c-.78.78-.78 2.05 0 2.83L4 21.41c.39.39.9.59 1.41.59.51 0 1.02-.2 1.41-.59l7.78-7.78 2.81-2.81c.8-.78.8-2.07 0-2.86zM5.41 20L4 18.59l7.72-7.72 1.47 1.35L5.41 20z\"/>\n",
              "  </svg>\n",
              "      </button>\n",
              "      \n",
              "  <style>\n",
              "    .colab-df-container {\n",
              "      display:flex;\n",
              "      flex-wrap:wrap;\n",
              "      gap: 12px;\n",
              "    }\n",
              "\n",
              "    .colab-df-convert {\n",
              "      background-color: #E8F0FE;\n",
              "      border: none;\n",
              "      border-radius: 50%;\n",
              "      cursor: pointer;\n",
              "      display: none;\n",
              "      fill: #1967D2;\n",
              "      height: 32px;\n",
              "      padding: 0 0 0 0;\n",
              "      width: 32px;\n",
              "    }\n",
              "\n",
              "    .colab-df-convert:hover {\n",
              "      background-color: #E2EBFA;\n",
              "      box-shadow: 0px 1px 2px rgba(60, 64, 67, 0.3), 0px 1px 3px 1px rgba(60, 64, 67, 0.15);\n",
              "      fill: #174EA6;\n",
              "    }\n",
              "\n",
              "    [theme=dark] .colab-df-convert {\n",
              "      background-color: #3B4455;\n",
              "      fill: #D2E3FC;\n",
              "    }\n",
              "\n",
              "    [theme=dark] .colab-df-convert:hover {\n",
              "      background-color: #434B5C;\n",
              "      box-shadow: 0px 1px 3px 1px rgba(0, 0, 0, 0.15);\n",
              "      filter: drop-shadow(0px 1px 2px rgba(0, 0, 0, 0.3));\n",
              "      fill: #FFFFFF;\n",
              "    }\n",
              "  </style>\n",
              "\n",
              "      <script>\n",
              "        const buttonEl =\n",
              "          document.querySelector('#df-2040fccd-1459-4f02-93f9-c37ea5ebf137 button.colab-df-convert');\n",
              "        buttonEl.style.display =\n",
              "          google.colab.kernel.accessAllowed ? 'block' : 'none';\n",
              "\n",
              "        async function convertToInteractive(key) {\n",
              "          const element = document.querySelector('#df-2040fccd-1459-4f02-93f9-c37ea5ebf137');\n",
              "          const dataTable =\n",
              "            await google.colab.kernel.invokeFunction('convertToInteractive',\n",
              "                                                     [key], {});\n",
              "          if (!dataTable) return;\n",
              "\n",
              "          const docLinkHtml = 'Like what you see? Visit the ' +\n",
              "            '<a target=\"_blank\" href=https://colab.research.google.com/notebooks/data_table.ipynb>data table notebook</a>'\n",
              "            + ' to learn more about interactive tables.';\n",
              "          element.innerHTML = '';\n",
              "          dataTable['output_type'] = 'display_data';\n",
              "          await google.colab.output.renderOutput(dataTable, element);\n",
              "          const docLink = document.createElement('div');\n",
              "          docLink.innerHTML = docLinkHtml;\n",
              "          element.appendChild(docLink);\n",
              "        }\n",
              "      </script>\n",
              "    </div>\n",
              "  </div>\n",
              "  "
            ]
          },
          "metadata": {},
          "execution_count": 6
        }
      ]
    },
    {
      "cell_type": "code",
      "source": [
        "df2 = df.iloc[:,3:]\n",
        "df2.head(1)"
      ],
      "metadata": {
        "colab": {
          "base_uri": "https://localhost:8080/",
          "height": 142
        },
        "id": "UwRAatvECvxP",
        "outputId": "1cd1d51f-1955-4615-82ce-2c574a38af56"
      },
      "execution_count": 7,
      "outputs": [
        {
          "output_type": "execute_result",
          "data": {
            "text/plain": [
              "   공원수  도서관수  병원수  배움터수  동별강좌정원  사고건수     독거노인포함  대중교통   합계   일반  65세이상고령자  \\\n",
              "1  1.0   2.0  0.0   0.0    50.0   0.0  1087370.0   1.0  590  520      1843   \n",
              "\n",
              "   전연령별독거노인비율  노인인구별독거노인비율          X           Y        위도UTMK  \\\n",
              "1    6.016724    32.013022  37.576191  126.968829  1.952806e+06   \n",
              "\n",
              "          경도UTMK  디지털정보지수  총합 9  \n",
              "1  953286.588072  9168.42  62.0  "
            ],
            "text/html": [
              "\n",
              "  <div id=\"df-7fad0515-fbcd-4133-8133-aacfe87e769d\">\n",
              "    <div class=\"colab-df-container\">\n",
              "      <div>\n",
              "<style scoped>\n",
              "    .dataframe tbody tr th:only-of-type {\n",
              "        vertical-align: middle;\n",
              "    }\n",
              "\n",
              "    .dataframe tbody tr th {\n",
              "        vertical-align: top;\n",
              "    }\n",
              "\n",
              "    .dataframe thead th {\n",
              "        text-align: right;\n",
              "    }\n",
              "</style>\n",
              "<table border=\"1\" class=\"dataframe\">\n",
              "  <thead>\n",
              "    <tr style=\"text-align: right;\">\n",
              "      <th></th>\n",
              "      <th>공원수</th>\n",
              "      <th>도서관수</th>\n",
              "      <th>병원수</th>\n",
              "      <th>배움터수</th>\n",
              "      <th>동별강좌정원</th>\n",
              "      <th>사고건수</th>\n",
              "      <th>독거노인포함</th>\n",
              "      <th>대중교통</th>\n",
              "      <th>합계</th>\n",
              "      <th>일반</th>\n",
              "      <th>65세이상고령자</th>\n",
              "      <th>전연령별독거노인비율</th>\n",
              "      <th>노인인구별독거노인비율</th>\n",
              "      <th>X</th>\n",
              "      <th>Y</th>\n",
              "      <th>위도UTMK</th>\n",
              "      <th>경도UTMK</th>\n",
              "      <th>디지털정보지수</th>\n",
              "      <th>총합 9</th>\n",
              "    </tr>\n",
              "  </thead>\n",
              "  <tbody>\n",
              "    <tr>\n",
              "      <th>1</th>\n",
              "      <td>1.0</td>\n",
              "      <td>2.0</td>\n",
              "      <td>0.0</td>\n",
              "      <td>0.0</td>\n",
              "      <td>50.0</td>\n",
              "      <td>0.0</td>\n",
              "      <td>1087370.0</td>\n",
              "      <td>1.0</td>\n",
              "      <td>590</td>\n",
              "      <td>520</td>\n",
              "      <td>1843</td>\n",
              "      <td>6.016724</td>\n",
              "      <td>32.013022</td>\n",
              "      <td>37.576191</td>\n",
              "      <td>126.968829</td>\n",
              "      <td>1.952806e+06</td>\n",
              "      <td>953286.588072</td>\n",
              "      <td>9168.42</td>\n",
              "      <td>62.0</td>\n",
              "    </tr>\n",
              "  </tbody>\n",
              "</table>\n",
              "</div>\n",
              "      <button class=\"colab-df-convert\" onclick=\"convertToInteractive('df-7fad0515-fbcd-4133-8133-aacfe87e769d')\"\n",
              "              title=\"Convert this dataframe to an interactive table.\"\n",
              "              style=\"display:none;\">\n",
              "        \n",
              "  <svg xmlns=\"http://www.w3.org/2000/svg\" height=\"24px\"viewBox=\"0 0 24 24\"\n",
              "       width=\"24px\">\n",
              "    <path d=\"M0 0h24v24H0V0z\" fill=\"none\"/>\n",
              "    <path d=\"M18.56 5.44l.94 2.06.94-2.06 2.06-.94-2.06-.94-.94-2.06-.94 2.06-2.06.94zm-11 1L8.5 8.5l.94-2.06 2.06-.94-2.06-.94L8.5 2.5l-.94 2.06-2.06.94zm10 10l.94 2.06.94-2.06 2.06-.94-2.06-.94-.94-2.06-.94 2.06-2.06.94z\"/><path d=\"M17.41 7.96l-1.37-1.37c-.4-.4-.92-.59-1.43-.59-.52 0-1.04.2-1.43.59L10.3 9.45l-7.72 7.72c-.78.78-.78 2.05 0 2.83L4 21.41c.39.39.9.59 1.41.59.51 0 1.02-.2 1.41-.59l7.78-7.78 2.81-2.81c.8-.78.8-2.07 0-2.86zM5.41 20L4 18.59l7.72-7.72 1.47 1.35L5.41 20z\"/>\n",
              "  </svg>\n",
              "      </button>\n",
              "      \n",
              "  <style>\n",
              "    .colab-df-container {\n",
              "      display:flex;\n",
              "      flex-wrap:wrap;\n",
              "      gap: 12px;\n",
              "    }\n",
              "\n",
              "    .colab-df-convert {\n",
              "      background-color: #E8F0FE;\n",
              "      border: none;\n",
              "      border-radius: 50%;\n",
              "      cursor: pointer;\n",
              "      display: none;\n",
              "      fill: #1967D2;\n",
              "      height: 32px;\n",
              "      padding: 0 0 0 0;\n",
              "      width: 32px;\n",
              "    }\n",
              "\n",
              "    .colab-df-convert:hover {\n",
              "      background-color: #E2EBFA;\n",
              "      box-shadow: 0px 1px 2px rgba(60, 64, 67, 0.3), 0px 1px 3px 1px rgba(60, 64, 67, 0.15);\n",
              "      fill: #174EA6;\n",
              "    }\n",
              "\n",
              "    [theme=dark] .colab-df-convert {\n",
              "      background-color: #3B4455;\n",
              "      fill: #D2E3FC;\n",
              "    }\n",
              "\n",
              "    [theme=dark] .colab-df-convert:hover {\n",
              "      background-color: #434B5C;\n",
              "      box-shadow: 0px 1px 3px 1px rgba(0, 0, 0, 0.15);\n",
              "      filter: drop-shadow(0px 1px 2px rgba(0, 0, 0, 0.3));\n",
              "      fill: #FFFFFF;\n",
              "    }\n",
              "  </style>\n",
              "\n",
              "      <script>\n",
              "        const buttonEl =\n",
              "          document.querySelector('#df-7fad0515-fbcd-4133-8133-aacfe87e769d button.colab-df-convert');\n",
              "        buttonEl.style.display =\n",
              "          google.colab.kernel.accessAllowed ? 'block' : 'none';\n",
              "\n",
              "        async function convertToInteractive(key) {\n",
              "          const element = document.querySelector('#df-7fad0515-fbcd-4133-8133-aacfe87e769d');\n",
              "          const dataTable =\n",
              "            await google.colab.kernel.invokeFunction('convertToInteractive',\n",
              "                                                     [key], {});\n",
              "          if (!dataTable) return;\n",
              "\n",
              "          const docLinkHtml = 'Like what you see? Visit the ' +\n",
              "            '<a target=\"_blank\" href=https://colab.research.google.com/notebooks/data_table.ipynb>data table notebook</a>'\n",
              "            + ' to learn more about interactive tables.';\n",
              "          element.innerHTML = '';\n",
              "          dataTable['output_type'] = 'display_data';\n",
              "          await google.colab.output.renderOutput(dataTable, element);\n",
              "          const docLink = document.createElement('div');\n",
              "          docLink.innerHTML = docLinkHtml;\n",
              "          element.appendChild(docLink);\n",
              "        }\n",
              "      </script>\n",
              "    </div>\n",
              "  </div>\n",
              "  "
            ]
          },
          "metadata": {},
          "execution_count": 7
        }
      ]
    },
    {
      "cell_type": "code",
      "source": [
        "column = df2.columns\n",
        "column"
      ],
      "metadata": {
        "colab": {
          "base_uri": "https://localhost:8080/"
        },
        "id": "gn5K_YwcDaxT",
        "outputId": "1db045bf-6b5f-4060-ac10-17085ac1a192"
      },
      "execution_count": 8,
      "outputs": [
        {
          "output_type": "execute_result",
          "data": {
            "text/plain": [
              "Index(['공원수', '도서관수', '병원수', '배움터수', '동별강좌정원', '사고건수', '독거노인포함', '대중교통', '합계',\n",
              "       '일반', '65세이상고령자', '전연령별독거노인비율', '노인인구별독거노인비율', 'X', 'Y', '위도UTMK',\n",
              "       '경도UTMK', '디지털정보지수', '총합 9'],\n",
              "      dtype='object')"
            ]
          },
          "metadata": {},
          "execution_count": 8
        }
      ]
    },
    {
      "cell_type": "code",
      "source": [
        "scaler = StandardScaler()\n",
        "df2_scaled = scaler.fit_transform(df2)\n",
        "df2_scaled = pd.DataFrame(df2_scaled, columns = column)\n",
        "df2_scaled.head(1)"
      ],
      "metadata": {
        "colab": {
          "base_uri": "https://localhost:8080/",
          "height": 159
        },
        "id": "oDv2nDADBm2H",
        "outputId": "3294c6e9-2a5f-4fb6-b478-7aa8f8b64e3b"
      },
      "execution_count": 9,
      "outputs": [
        {
          "output_type": "execute_result",
          "data": {
            "text/plain": [
              "        공원수      도서관수       병원수      배움터수    동별강좌정원      사고건수    독거노인포함  \\\n",
              "0  1.995322  2.103655 -0.314159 -0.466936 -0.746355 -0.176186 -1.136415   \n",
              "\n",
              "       대중교통        합계        일반  65세이상고령자  전연령별독거노인비율  노인인구별독거노인비율        X  \\\n",
              "0 -0.447988 -1.096052 -0.691643 -1.636607    0.925393      1.00287  0.38401   \n",
              "\n",
              "          Y    위도UTMK    경도UTMK   디지털정보지수      총합 9  \n",
              "0 -0.288785  0.386124 -0.286411 -1.618131 -0.391469  "
            ],
            "text/html": [
              "\n",
              "  <div id=\"df-4ddb8618-4086-43a3-ab59-1379943a2f09\">\n",
              "    <div class=\"colab-df-container\">\n",
              "      <div>\n",
              "<style scoped>\n",
              "    .dataframe tbody tr th:only-of-type {\n",
              "        vertical-align: middle;\n",
              "    }\n",
              "\n",
              "    .dataframe tbody tr th {\n",
              "        vertical-align: top;\n",
              "    }\n",
              "\n",
              "    .dataframe thead th {\n",
              "        text-align: right;\n",
              "    }\n",
              "</style>\n",
              "<table border=\"1\" class=\"dataframe\">\n",
              "  <thead>\n",
              "    <tr style=\"text-align: right;\">\n",
              "      <th></th>\n",
              "      <th>공원수</th>\n",
              "      <th>도서관수</th>\n",
              "      <th>병원수</th>\n",
              "      <th>배움터수</th>\n",
              "      <th>동별강좌정원</th>\n",
              "      <th>사고건수</th>\n",
              "      <th>독거노인포함</th>\n",
              "      <th>대중교통</th>\n",
              "      <th>합계</th>\n",
              "      <th>일반</th>\n",
              "      <th>65세이상고령자</th>\n",
              "      <th>전연령별독거노인비율</th>\n",
              "      <th>노인인구별독거노인비율</th>\n",
              "      <th>X</th>\n",
              "      <th>Y</th>\n",
              "      <th>위도UTMK</th>\n",
              "      <th>경도UTMK</th>\n",
              "      <th>디지털정보지수</th>\n",
              "      <th>총합 9</th>\n",
              "    </tr>\n",
              "  </thead>\n",
              "  <tbody>\n",
              "    <tr>\n",
              "      <th>0</th>\n",
              "      <td>1.995322</td>\n",
              "      <td>2.103655</td>\n",
              "      <td>-0.314159</td>\n",
              "      <td>-0.466936</td>\n",
              "      <td>-0.746355</td>\n",
              "      <td>-0.176186</td>\n",
              "      <td>-1.136415</td>\n",
              "      <td>-0.447988</td>\n",
              "      <td>-1.096052</td>\n",
              "      <td>-0.691643</td>\n",
              "      <td>-1.636607</td>\n",
              "      <td>0.925393</td>\n",
              "      <td>1.00287</td>\n",
              "      <td>0.38401</td>\n",
              "      <td>-0.288785</td>\n",
              "      <td>0.386124</td>\n",
              "      <td>-0.286411</td>\n",
              "      <td>-1.618131</td>\n",
              "      <td>-0.391469</td>\n",
              "    </tr>\n",
              "  </tbody>\n",
              "</table>\n",
              "</div>\n",
              "      <button class=\"colab-df-convert\" onclick=\"convertToInteractive('df-4ddb8618-4086-43a3-ab59-1379943a2f09')\"\n",
              "              title=\"Convert this dataframe to an interactive table.\"\n",
              "              style=\"display:none;\">\n",
              "        \n",
              "  <svg xmlns=\"http://www.w3.org/2000/svg\" height=\"24px\"viewBox=\"0 0 24 24\"\n",
              "       width=\"24px\">\n",
              "    <path d=\"M0 0h24v24H0V0z\" fill=\"none\"/>\n",
              "    <path d=\"M18.56 5.44l.94 2.06.94-2.06 2.06-.94-2.06-.94-.94-2.06-.94 2.06-2.06.94zm-11 1L8.5 8.5l.94-2.06 2.06-.94-2.06-.94L8.5 2.5l-.94 2.06-2.06.94zm10 10l.94 2.06.94-2.06 2.06-.94-2.06-.94-.94-2.06-.94 2.06-2.06.94z\"/><path d=\"M17.41 7.96l-1.37-1.37c-.4-.4-.92-.59-1.43-.59-.52 0-1.04.2-1.43.59L10.3 9.45l-7.72 7.72c-.78.78-.78 2.05 0 2.83L4 21.41c.39.39.9.59 1.41.59.51 0 1.02-.2 1.41-.59l7.78-7.78 2.81-2.81c.8-.78.8-2.07 0-2.86zM5.41 20L4 18.59l7.72-7.72 1.47 1.35L5.41 20z\"/>\n",
              "  </svg>\n",
              "      </button>\n",
              "      \n",
              "  <style>\n",
              "    .colab-df-container {\n",
              "      display:flex;\n",
              "      flex-wrap:wrap;\n",
              "      gap: 12px;\n",
              "    }\n",
              "\n",
              "    .colab-df-convert {\n",
              "      background-color: #E8F0FE;\n",
              "      border: none;\n",
              "      border-radius: 50%;\n",
              "      cursor: pointer;\n",
              "      display: none;\n",
              "      fill: #1967D2;\n",
              "      height: 32px;\n",
              "      padding: 0 0 0 0;\n",
              "      width: 32px;\n",
              "    }\n",
              "\n",
              "    .colab-df-convert:hover {\n",
              "      background-color: #E2EBFA;\n",
              "      box-shadow: 0px 1px 2px rgba(60, 64, 67, 0.3), 0px 1px 3px 1px rgba(60, 64, 67, 0.15);\n",
              "      fill: #174EA6;\n",
              "    }\n",
              "\n",
              "    [theme=dark] .colab-df-convert {\n",
              "      background-color: #3B4455;\n",
              "      fill: #D2E3FC;\n",
              "    }\n",
              "\n",
              "    [theme=dark] .colab-df-convert:hover {\n",
              "      background-color: #434B5C;\n",
              "      box-shadow: 0px 1px 3px 1px rgba(0, 0, 0, 0.15);\n",
              "      filter: drop-shadow(0px 1px 2px rgba(0, 0, 0, 0.3));\n",
              "      fill: #FFFFFF;\n",
              "    }\n",
              "  </style>\n",
              "\n",
              "      <script>\n",
              "        const buttonEl =\n",
              "          document.querySelector('#df-4ddb8618-4086-43a3-ab59-1379943a2f09 button.colab-df-convert');\n",
              "        buttonEl.style.display =\n",
              "          google.colab.kernel.accessAllowed ? 'block' : 'none';\n",
              "\n",
              "        async function convertToInteractive(key) {\n",
              "          const element = document.querySelector('#df-4ddb8618-4086-43a3-ab59-1379943a2f09');\n",
              "          const dataTable =\n",
              "            await google.colab.kernel.invokeFunction('convertToInteractive',\n",
              "                                                     [key], {});\n",
              "          if (!dataTable) return;\n",
              "\n",
              "          const docLinkHtml = 'Like what you see? Visit the ' +\n",
              "            '<a target=\"_blank\" href=https://colab.research.google.com/notebooks/data_table.ipynb>data table notebook</a>'\n",
              "            + ' to learn more about interactive tables.';\n",
              "          element.innerHTML = '';\n",
              "          dataTable['output_type'] = 'display_data';\n",
              "          await google.colab.output.renderOutput(dataTable, element);\n",
              "          const docLink = document.createElement('div');\n",
              "          docLink.innerHTML = docLinkHtml;\n",
              "          element.appendChild(docLink);\n",
              "        }\n",
              "      </script>\n",
              "    </div>\n",
              "  </div>\n",
              "  "
            ]
          },
          "metadata": {},
          "execution_count": 9
        }
      ]
    },
    {
      "cell_type": "code",
      "source": [
        "df3 = df2_scaled.copy()\n",
        "df3.head(1)"
      ],
      "metadata": {
        "colab": {
          "base_uri": "https://localhost:8080/",
          "height": 159
        },
        "id": "WY3tes4oDhB9",
        "outputId": "ce00f8b6-0a21-40e1-8ed1-c1f4aa378373"
      },
      "execution_count": 10,
      "outputs": [
        {
          "output_type": "execute_result",
          "data": {
            "text/plain": [
              "        공원수      도서관수       병원수      배움터수    동별강좌정원      사고건수    독거노인포함  \\\n",
              "0  1.995322  2.103655 -0.314159 -0.466936 -0.746355 -0.176186 -1.136415   \n",
              "\n",
              "       대중교통        합계        일반  65세이상고령자  전연령별독거노인비율  노인인구별독거노인비율        X  \\\n",
              "0 -0.447988 -1.096052 -0.691643 -1.636607    0.925393      1.00287  0.38401   \n",
              "\n",
              "          Y    위도UTMK    경도UTMK   디지털정보지수      총합 9  \n",
              "0 -0.288785  0.386124 -0.286411 -1.618131 -0.391469  "
            ],
            "text/html": [
              "\n",
              "  <div id=\"df-05c20090-5052-47ab-b71f-72ecb1d40d6d\">\n",
              "    <div class=\"colab-df-container\">\n",
              "      <div>\n",
              "<style scoped>\n",
              "    .dataframe tbody tr th:only-of-type {\n",
              "        vertical-align: middle;\n",
              "    }\n",
              "\n",
              "    .dataframe tbody tr th {\n",
              "        vertical-align: top;\n",
              "    }\n",
              "\n",
              "    .dataframe thead th {\n",
              "        text-align: right;\n",
              "    }\n",
              "</style>\n",
              "<table border=\"1\" class=\"dataframe\">\n",
              "  <thead>\n",
              "    <tr style=\"text-align: right;\">\n",
              "      <th></th>\n",
              "      <th>공원수</th>\n",
              "      <th>도서관수</th>\n",
              "      <th>병원수</th>\n",
              "      <th>배움터수</th>\n",
              "      <th>동별강좌정원</th>\n",
              "      <th>사고건수</th>\n",
              "      <th>독거노인포함</th>\n",
              "      <th>대중교통</th>\n",
              "      <th>합계</th>\n",
              "      <th>일반</th>\n",
              "      <th>65세이상고령자</th>\n",
              "      <th>전연령별독거노인비율</th>\n",
              "      <th>노인인구별독거노인비율</th>\n",
              "      <th>X</th>\n",
              "      <th>Y</th>\n",
              "      <th>위도UTMK</th>\n",
              "      <th>경도UTMK</th>\n",
              "      <th>디지털정보지수</th>\n",
              "      <th>총합 9</th>\n",
              "    </tr>\n",
              "  </thead>\n",
              "  <tbody>\n",
              "    <tr>\n",
              "      <th>0</th>\n",
              "      <td>1.995322</td>\n",
              "      <td>2.103655</td>\n",
              "      <td>-0.314159</td>\n",
              "      <td>-0.466936</td>\n",
              "      <td>-0.746355</td>\n",
              "      <td>-0.176186</td>\n",
              "      <td>-1.136415</td>\n",
              "      <td>-0.447988</td>\n",
              "      <td>-1.096052</td>\n",
              "      <td>-0.691643</td>\n",
              "      <td>-1.636607</td>\n",
              "      <td>0.925393</td>\n",
              "      <td>1.00287</td>\n",
              "      <td>0.38401</td>\n",
              "      <td>-0.288785</td>\n",
              "      <td>0.386124</td>\n",
              "      <td>-0.286411</td>\n",
              "      <td>-1.618131</td>\n",
              "      <td>-0.391469</td>\n",
              "    </tr>\n",
              "  </tbody>\n",
              "</table>\n",
              "</div>\n",
              "      <button class=\"colab-df-convert\" onclick=\"convertToInteractive('df-05c20090-5052-47ab-b71f-72ecb1d40d6d')\"\n",
              "              title=\"Convert this dataframe to an interactive table.\"\n",
              "              style=\"display:none;\">\n",
              "        \n",
              "  <svg xmlns=\"http://www.w3.org/2000/svg\" height=\"24px\"viewBox=\"0 0 24 24\"\n",
              "       width=\"24px\">\n",
              "    <path d=\"M0 0h24v24H0V0z\" fill=\"none\"/>\n",
              "    <path d=\"M18.56 5.44l.94 2.06.94-2.06 2.06-.94-2.06-.94-.94-2.06-.94 2.06-2.06.94zm-11 1L8.5 8.5l.94-2.06 2.06-.94-2.06-.94L8.5 2.5l-.94 2.06-2.06.94zm10 10l.94 2.06.94-2.06 2.06-.94-2.06-.94-.94-2.06-.94 2.06-2.06.94z\"/><path d=\"M17.41 7.96l-1.37-1.37c-.4-.4-.92-.59-1.43-.59-.52 0-1.04.2-1.43.59L10.3 9.45l-7.72 7.72c-.78.78-.78 2.05 0 2.83L4 21.41c.39.39.9.59 1.41.59.51 0 1.02-.2 1.41-.59l7.78-7.78 2.81-2.81c.8-.78.8-2.07 0-2.86zM5.41 20L4 18.59l7.72-7.72 1.47 1.35L5.41 20z\"/>\n",
              "  </svg>\n",
              "      </button>\n",
              "      \n",
              "  <style>\n",
              "    .colab-df-container {\n",
              "      display:flex;\n",
              "      flex-wrap:wrap;\n",
              "      gap: 12px;\n",
              "    }\n",
              "\n",
              "    .colab-df-convert {\n",
              "      background-color: #E8F0FE;\n",
              "      border: none;\n",
              "      border-radius: 50%;\n",
              "      cursor: pointer;\n",
              "      display: none;\n",
              "      fill: #1967D2;\n",
              "      height: 32px;\n",
              "      padding: 0 0 0 0;\n",
              "      width: 32px;\n",
              "    }\n",
              "\n",
              "    .colab-df-convert:hover {\n",
              "      background-color: #E2EBFA;\n",
              "      box-shadow: 0px 1px 2px rgba(60, 64, 67, 0.3), 0px 1px 3px 1px rgba(60, 64, 67, 0.15);\n",
              "      fill: #174EA6;\n",
              "    }\n",
              "\n",
              "    [theme=dark] .colab-df-convert {\n",
              "      background-color: #3B4455;\n",
              "      fill: #D2E3FC;\n",
              "    }\n",
              "\n",
              "    [theme=dark] .colab-df-convert:hover {\n",
              "      background-color: #434B5C;\n",
              "      box-shadow: 0px 1px 3px 1px rgba(0, 0, 0, 0.15);\n",
              "      filter: drop-shadow(0px 1px 2px rgba(0, 0, 0, 0.3));\n",
              "      fill: #FFFFFF;\n",
              "    }\n",
              "  </style>\n",
              "\n",
              "      <script>\n",
              "        const buttonEl =\n",
              "          document.querySelector('#df-05c20090-5052-47ab-b71f-72ecb1d40d6d button.colab-df-convert');\n",
              "        buttonEl.style.display =\n",
              "          google.colab.kernel.accessAllowed ? 'block' : 'none';\n",
              "\n",
              "        async function convertToInteractive(key) {\n",
              "          const element = document.querySelector('#df-05c20090-5052-47ab-b71f-72ecb1d40d6d');\n",
              "          const dataTable =\n",
              "            await google.colab.kernel.invokeFunction('convertToInteractive',\n",
              "                                                     [key], {});\n",
              "          if (!dataTable) return;\n",
              "\n",
              "          const docLinkHtml = 'Like what you see? Visit the ' +\n",
              "            '<a target=\"_blank\" href=https://colab.research.google.com/notebooks/data_table.ipynb>data table notebook</a>'\n",
              "            + ' to learn more about interactive tables.';\n",
              "          element.innerHTML = '';\n",
              "          dataTable['output_type'] = 'display_data';\n",
              "          await google.colab.output.renderOutput(dataTable, element);\n",
              "          const docLink = document.createElement('div');\n",
              "          docLink.innerHTML = docLinkHtml;\n",
              "          element.appendChild(docLink);\n",
              "        }\n",
              "      </script>\n",
              "    </div>\n",
              "  </div>\n",
              "  "
            ]
          },
          "metadata": {},
          "execution_count": 10
        }
      ]
    },
    {
      "cell_type": "markdown",
      "source": [
        "## KMeans"
      ],
      "metadata": {
        "id": "ZsdVeAZSDtM4"
      }
    },
    {
      "cell_type": "code",
      "source": [
        "print('k = 2 일때')\n",
        "kmeans = KMeans(n_clusters=2, random_state=42)\n",
        "kmeans.fit(df2_scaled)\n",
        "df3['cluster'] = kmeans.labels_\n",
        "\n",
        "score_samples = silhouette_samples(df2_scaled, df3['cluster'])\n",
        "df3['silhoutte_coeff'] = score_samples\n",
        "\n",
        "average_score = silhouette_score(df2_scaled, df3['cluster'])\n",
        "print(average_score)\n",
        "print(df3.groupby('cluster')['silhoutte_coeff'].count())\n",
        "print(df3.groupby('cluster')['silhoutte_coeff'].mean())\n",
        "print(np.var(df3['silhoutte_coeff']))"
      ],
      "metadata": {
        "colab": {
          "base_uri": "https://localhost:8080/"
        },
        "id": "fWgt1--RDli6",
        "outputId": "4cf279ce-125a-420f-83da-c699bd077cc1"
      },
      "execution_count": 11,
      "outputs": [
        {
          "output_type": "stream",
          "name": "stdout",
          "text": [
            "k = 2 일때\n",
            "0.18443215937338112\n",
            "cluster\n",
            "0    215\n",
            "1    117\n",
            "Name: silhoutte_coeff, dtype: int64\n",
            "cluster\n",
            "0    0.216500\n",
            "1    0.125504\n",
            "Name: silhoutte_coeff, dtype: float64\n",
            "0.009388664972327335\n"
          ]
        }
      ]
    },
    {
      "cell_type": "code",
      "source": [
        "print('k = 2 일때')\n",
        "kmeans_2 = KMeans(n_clusters=2, random_state=42, init='k-means++')\n",
        "#visualizer 생성\n",
        "visualizer_2 = SilhouetteVisualizer(kmeans_2, colors='yellowbrick')\n",
        "#생성된 visualizer에 데이터 입력 \n",
        "visualizer_2.fit(df2_scaled)\n",
        "visualizer_2.show()"
      ],
      "metadata": {
        "colab": {
          "base_uri": "https://localhost:8080/",
          "height": 412
        },
        "id": "G2qhUuIvD1KF",
        "outputId": "74bd6049-ea19-42e9-f8fd-cf618f680640"
      },
      "execution_count": 12,
      "outputs": [
        {
          "output_type": "stream",
          "name": "stdout",
          "text": [
            "k = 2 일때\n"
          ]
        },
        {
          "output_type": "display_data",
          "data": {
            "text/plain": [
              "<Figure size 576x396 with 1 Axes>"
            ],
            "image/png": "[encoded data removed]"
          },
          "metadata": {}
        },
        {
          "output_type": "execute_result",
          "data": {
            "text/plain": [
              "<matplotlib.axes._subplots.AxesSubplot at 0x7f4ba00a9110>"
            ]
          },
          "metadata": {},
          "execution_count": 12
        }
      ]
    },
    {
      "cell_type": "code",
      "source": [
        "# k값을 다시 나타내기 위해, copy 반복\n",
        "df3 = df2_scaled.copy()"
      ],
      "metadata": {
        "id": "YNGDSx-BD3-a"
      },
      "execution_count": 13,
      "outputs": []
    },
    {
      "cell_type": "code",
      "source": [
        "print('k = 3 일 때')\n",
        "kmeans = KMeans(n_clusters=3, random_state=42)\n",
        "kmeans.fit(df3)\n",
        "df3['cluster'] = kmeans.labels_\n",
        "\n",
        "score_samples = silhouette_samples(df2_scaled, df3['cluster'])\n",
        "# print(score_samples.shape)\n",
        "# print(score_samples)\n",
        "df3['silhoutte_coeff'] = score_samples\n",
        "\n",
        "average_score = silhouette_score(df2_scaled, df3['cluster'])\n",
        "print(average_score)\n",
        "print(df3.groupby('cluster')['silhoutte_coeff'].count())\n",
        "print(df3.groupby('cluster')['silhoutte_coeff'].mean())\n",
        "print(np.var(df3['silhoutte_coeff']))"
      ],
      "metadata": {
        "colab": {
          "base_uri": "https://localhost:8080/"
        },
        "id": "okDJlwzIEcuB",
        "outputId": "86a464eb-7316-4335-b0e1-e5459e401aa7"
      },
      "execution_count": 14,
      "outputs": [
        {
          "output_type": "stream",
          "name": "stdout",
          "text": [
            "k = 3 일 때\n",
            "0.14045934621836653\n",
            "cluster\n",
            "0     81\n",
            "1    146\n",
            "2    105\n",
            "Name: silhoutte_coeff, dtype: int64\n",
            "cluster\n",
            "0    0.114478\n",
            "1    0.123509\n",
            "2    0.184071\n",
            "Name: silhoutte_coeff, dtype: float64\n",
            "0.007517350531216333\n"
          ]
        }
      ]
    },
    {
      "cell_type": "code",
      "source": [
        "# k = 3 일때\n",
        "kmeans_3 = KMeans(n_clusters=3, random_state=42, init='k-means++')\n",
        "#visualizer 생성\n",
        "visualizer_3 = SilhouetteVisualizer(kmeans_3, colors='yellowbrick')\n",
        "#생성된 visualizer에 데이터 입력 \n",
        "visualizer_3.fit(df2_scaled)\n",
        "visualizer_3.show()"
      ],
      "metadata": {
        "colab": {
          "base_uri": "https://localhost:8080/",
          "height": 394
        },
        "id": "nGhXlk3kEeYG",
        "outputId": "b744fc50-a6aa-4ff6-cc6e-a40652a907f8"
      },
      "execution_count": 15,
      "outputs": [
        {
          "output_type": "display_data",
          "data": {
            "text/plain": [
              "<Figure size 576x396 with 1 Axes>"
            ],
            "image/png": "[encoded data removed]"
          },
          "metadata": {}
        },
        {
          "output_type": "execute_result",
          "data": {
            "text/plain": [
              "<matplotlib.axes._subplots.AxesSubplot at 0x7f4b9cb3b250>"
            ]
          },
          "metadata": {},
          "execution_count": 15
        }
      ]
    },
    {
      "cell_type": "code",
      "source": [
        "df3 = df2_scaled.copy()"
      ],
      "metadata": {
        "id": "3uW9_gsmEjv0"
      },
      "execution_count": 16,
      "outputs": []
    },
    {
      "cell_type": "code",
      "source": [
        "print('k = 4 일 때')\n",
        "kmeans = KMeans(n_clusters=4, random_state=42)\n",
        "kmeans.fit(df3)\n",
        "df3['cluster'] = kmeans.labels_\n",
        "\n",
        "score_samples = silhouette_samples(df2_scaled, df3['cluster'])\n",
        "# print(score_samples.shape)\n",
        "# print(score_samples)\n",
        "df3['silhoutte_coeff'] = score_samples\n",
        "\n",
        "average_score = silhouette_score(df2_scaled, df3['cluster'])\n",
        "print(average_score)\n",
        "print(df3.groupby('cluster')['silhoutte_coeff'].count())\n",
        "print(df3.groupby('cluster')['silhoutte_coeff'].mean())\n",
        "print(np.var(df3['silhoutte_coeff']))"
      ],
      "metadata": {
        "colab": {
          "base_uri": "https://localhost:8080/"
        },
        "id": "U56dFONPEmkT",
        "outputId": "8b285f58-34d5-4037-97fb-a55f0249e865"
      },
      "execution_count": 17,
      "outputs": [
        {
          "output_type": "stream",
          "name": "stdout",
          "text": [
            "k = 4 일 때\n",
            "0.13150586217463467\n",
            "cluster\n",
            "0     81\n",
            "1     87\n",
            "2     62\n",
            "3    102\n",
            "Name: silhoutte_coeff, dtype: int64\n",
            "cluster\n",
            "0    0.116238\n",
            "1    0.203200\n",
            "2    0.189072\n",
            "3    0.047488\n",
            "Name: silhoutte_coeff, dtype: float64\n",
            "0.012953734419435724\n"
          ]
        }
      ]
    },
    {
      "cell_type": "code",
      "source": [
        "# k = 4 일때\n",
        "kmeans_4 = KMeans(n_clusters=4, random_state=42, init='k-means++')\n",
        "#visualizer 생성\n",
        "visualizer_4 = SilhouetteVisualizer(kmeans_4, colors='yellowbrick')\n",
        "#생성된 visualizer에 데이터 입력 \n",
        "visualizer_4.fit(df2_scaled)\n",
        "visualizer_4.show()"
      ],
      "metadata": {
        "colab": {
          "base_uri": "https://localhost:8080/",
          "height": 394
        },
        "id": "g4k4gGSLEtF8",
        "outputId": "2f3eed2e-e4e2-4731-bc08-1e8026bc5b89"
      },
      "execution_count": 18,
      "outputs": [
        {
          "output_type": "display_data",
          "data": {
            "text/plain": [
              "<Figure size 576x396 with 1 Axes>"
            ],
            "image/png": "[encoded data removed]"
          },
          "metadata": {}
        },
        {
          "output_type": "execute_result",
          "data": {
            "text/plain": [
              "<matplotlib.axes._subplots.AxesSubplot at 0x7f4b9aabd1d0>"
            ]
          },
          "metadata": {},
          "execution_count": 18
        }
      ]
    },
    {
      "cell_type": "code",
      "source": [
        "df3 = df2_scaled.copy()"
      ],
      "metadata": {
        "id": "FwGd6dLGEucR"
      },
      "execution_count": 19,
      "outputs": []
    },
    {
      "cell_type": "code",
      "source": [
        "print('k = 5 일 때')\n",
        "kmeans = KMeans(n_clusters=5, random_state=42)\n",
        "kmeans.fit(df3)\n",
        "df3['cluster'] = kmeans.labels_\n",
        "\n",
        "score_samples = silhouette_samples(df2_scaled, df3['cluster'])\n",
        "# print(score_samples.shape)\n",
        "# print(score_samples)\n",
        "df3['silhoutte_coeff'] = score_samples\n",
        "\n",
        "average_score = silhouette_score(df2_scaled, df3['cluster'])\n",
        "print(average_score)\n",
        "print(df3.groupby('cluster')['silhoutte_coeff'].count())\n",
        "print(df3.groupby('cluster')['silhoutte_coeff'].mean())\n",
        "print(np.var(df3['silhoutte_coeff']))"
      ],
      "metadata": {
        "colab": {
          "base_uri": "https://localhost:8080/"
        },
        "id": "vT_o9GWvEzZ8",
        "outputId": "33d69bc1-e129-477c-cfd2-99f6ddc8c513"
      },
      "execution_count": 20,
      "outputs": [
        {
          "output_type": "stream",
          "name": "stdout",
          "text": [
            "k = 5 일 때\n",
            "0.14357762840660515\n",
            "cluster\n",
            "0    90\n",
            "1    37\n",
            "2    80\n",
            "3    66\n",
            "4    59\n",
            "Name: silhoutte_coeff, dtype: int64\n",
            "cluster\n",
            "0    0.131762\n",
            "1    0.062075\n",
            "2    0.220491\n",
            "3    0.154286\n",
            "4    0.096446\n",
            "Name: silhoutte_coeff, dtype: float64\n",
            "0.011006072439694125\n"
          ]
        }
      ]
    },
    {
      "cell_type": "code",
      "source": [
        "# k = 5 일때\n",
        "kmeans_5 = KMeans(n_clusters=5, random_state=42, init='k-means++')\n",
        "#visualizer 생성\n",
        "visualizer_5 = SilhouetteVisualizer(kmeans_5, colors='yellowbrick')\n",
        "#생성된 visualizer에 데이터 입력 \n",
        "visualizer_5.fit(df2_scaled)\n",
        "visualizer_5.show()"
      ],
      "metadata": {
        "colab": {
          "base_uri": "https://localhost:8080/",
          "height": 394
        },
        "id": "vK5xkN7yE01B",
        "outputId": "f9da7ddd-c953-4490-c3a6-db831be4d023"
      },
      "execution_count": 21,
      "outputs": [
        {
          "output_type": "display_data",
          "data": {
            "text/plain": [
              "<Figure size 576x396 with 1 Axes>"
            ],
            "image/png": "[encoded data removed]"
          },
          "metadata": {}
        },
        {
          "output_type": "execute_result",
          "data": {
            "text/plain": [
              "<matplotlib.axes._subplots.AxesSubplot at 0x7f4b9cb32590>"
            ]
          },
          "metadata": {},
          "execution_count": 21
        }
      ]
    }
  ]
}
