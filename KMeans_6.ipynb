{
  "nbformat": 4,
  "nbformat_minor": 0,
  "metadata": {
    "colab": {
      "name": "KMeans_6.ipynb",
      "provenance": [],
      "collapsed_sections": []
    },
    "kernelspec": {
      "name": "python3",
      "display_name": "Python 3"
    },
    "language_info": {
      "name": "python"
    }
  },
  "cells": [
    {
      "cell_type": "markdown",
      "source": [
        "#Imports"
      ],
      "metadata": {
        "id": "E9_Bt34EWeGC"
      }
    },
    {
      "cell_type": "code",
      "execution_count": null,
      "metadata": {
        "id": "rierMH6JAett"
      },
      "outputs": [],
      "source": [
        "from sklearn.preprocessing import scale\n",
        "from sklearn.cluster import KMeans\n",
        "import matplotlib.pyplot as plt\n",
        "import numpy as np\n",
        "import pandas as pd\n",
        "\n",
        "# Clustering\n",
        "from scipy.cluster.hierarchy import linkage, dendrogram, fcluster\n",
        "\n",
        "# Scaling & silhouette\n",
        "from sklearn.preprocessing import StandardScaler\n",
        "from sklearn.metrics import silhouette_samples, silhouette_score,davies_bouldin_score\n",
        "from yellowbrick.cluster import SilhouetteVisualizer"
      ]
    },
    {
      "cell_type": "code",
      "source": [
        "from google.colab import drive\n",
        "drive.mount('/content/drive')"
      ],
      "metadata": {
        "colab": {
          "base_uri": "https://localhost:8080/"
        },
        "id": "JmKY7y3iJHmB",
        "outputId": "c901f3ea-fa90-4ca6-c35d-51f630ba1fe4"
      },
      "execution_count": null,
      "outputs": [
        {
          "output_type": "stream",
          "name": "stdout",
          "text": [
            "Drive already mounted at /content/drive; to attempt to forcibly remount, call drive.mount(\"/content/drive\", force_remount=True).\n"
          ]
        }
      ]
    },
    {
      "cell_type": "markdown",
      "source": [
        "# Standard Scaler - KMeans 실루엣 시작."
      ],
      "metadata": {
        "id": "EUR1-bDakedS"
      }
    },
    {
      "cell_type": "code",
      "source": [
        "df2 = pd.read_csv('/content/drive/MyDrive/시소프로젝트/1-1 excellent 컷오프 완료.csv')\n",
        "df2.reset_index()\n",
        "df2 = df2.iloc[:,1:]\n",
        "df2.head(1)"
      ],
      "metadata": {
        "colab": {
          "base_uri": "https://localhost:8080/",
          "height": 189
        },
        "id": "JayKDAC8DFD3",
        "outputId": "0d41bccb-e9b7-4121-e4c8-8b790f6e9fc1"
      },
      "execution_count": null,
      "outputs": [
        {
          "output_type": "execute_result",
          "data": {
            "text/plain": [
              "   자치구    동       센터명  공원수  도서관수  병원수  배움터수  동별강좌정원  사고건수     독거노인포함  ...  \\\n",
              "0  종로구  사직동  사직동 주민센터  1.0   2.0  0.0   0.0    50.0   0.0  1087370.0  ...   \n",
              "\n",
              "    일반  65세이상고령자  전연령별독거노인비율  노인인구별독거노인비율          X           Y  \\\n",
              "0  520      1843    6.016724    32.013022  37.576191  126.968829   \n",
              "\n",
              "         위도UTMK         경도UTMK  디지털정보지수  총합 9  \n",
              "0  1.952806e+06  953286.588072  9168.42  62.0  \n",
              "\n",
              "[1 rows x 22 columns]"
            ],
            "text/html": [
              "\n",
              "  <div id=\"df-cea2bedc-0f6d-45d8-b09d-60467968702e\">\n",
              "    <div class=\"colab-df-container\">\n",
              "      <div>\n",
              "<style scoped>\n",
              "    .dataframe tbody tr th:only-of-type {\n",
              "        vertical-align: middle;\n",
              "    }\n",
              "\n",
              "    .dataframe tbody tr th {\n",
              "        vertical-align: top;\n",
              "    }\n",
              "\n",
              "    .dataframe thead th {\n",
              "        text-align: right;\n",
              "    }\n",
              "</style>\n",
              "<table border=\"1\" class=\"dataframe\">\n",
              "  <thead>\n",
              "    <tr style=\"text-align: right;\">\n",
              "      <th></th>\n",
              "      <th>자치구</th>\n",
              "      <th>동</th>\n",
              "      <th>센터명</th>\n",
              "      <th>공원수</th>\n",
              "      <th>도서관수</th>\n",
              "      <th>병원수</th>\n",
              "      <th>배움터수</th>\n",
              "      <th>동별강좌정원</th>\n",
              "      <th>사고건수</th>\n",
              "      <th>독거노인포함</th>\n",
              "      <th>...</th>\n",
              "      <th>일반</th>\n",
              "      <th>65세이상고령자</th>\n",
              "      <th>전연령별독거노인비율</th>\n",
              "      <th>노인인구별독거노인비율</th>\n",
              "      <th>X</th>\n",
              "      <th>Y</th>\n",
              "      <th>위도UTMK</th>\n",
              "      <th>경도UTMK</th>\n",
              "      <th>디지털정보지수</th>\n",
              "      <th>총합 9</th>\n",
              "    </tr>\n",
              "  </thead>\n",
              "  <tbody>\n",
              "    <tr>\n",
              "      <th>0</th>\n",
              "      <td>종로구</td>\n",
              "      <td>사직동</td>\n",
              "      <td>사직동 주민센터</td>\n",
              "      <td>1.0</td>\n",
              "      <td>2.0</td>\n",
              "      <td>0.0</td>\n",
              "      <td>0.0</td>\n",
              "      <td>50.0</td>\n",
              "      <td>0.0</td>\n",
              "      <td>1087370.0</td>\n",
              "      <td>...</td>\n",
              "      <td>520</td>\n",
              "      <td>1843</td>\n",
              "      <td>6.016724</td>\n",
              "      <td>32.013022</td>\n",
              "      <td>37.576191</td>\n",
              "      <td>126.968829</td>\n",
              "      <td>1.952806e+06</td>\n",
              "      <td>953286.588072</td>\n",
              "      <td>9168.42</td>\n",
              "      <td>62.0</td>\n",
              "    </tr>\n",
              "  </tbody>\n",
              "</table>\n",
              "<p>1 rows × 22 columns</p>\n",
              "</div>\n",
              "      <button class=\"colab-df-convert\" onclick=\"convertToInteractive('df-cea2bedc-0f6d-45d8-b09d-60467968702e')\"\n",
              "              title=\"Convert this dataframe to an interactive table.\"\n",
              "              style=\"display:none;\">\n",
              "        \n",
              "  <svg xmlns=\"http://www.w3.org/2000/svg\" height=\"24px\"viewBox=\"0 0 24 24\"\n",
              "       width=\"24px\">\n",
              "    <path d=\"M0 0h24v24H0V0z\" fill=\"none\"/>\n",
              "    <path d=\"M18.56 5.44l.94 2.06.94-2.06 2.06-.94-2.06-.94-.94-2.06-.94 2.06-2.06.94zm-11 1L8.5 8.5l.94-2.06 2.06-.94-2.06-.94L8.5 2.5l-.94 2.06-2.06.94zm10 10l.94 2.06.94-2.06 2.06-.94-2.06-.94-.94-2.06-.94 2.06-2.06.94z\"/><path d=\"M17.41 7.96l-1.37-1.37c-.4-.4-.92-.59-1.43-.59-.52 0-1.04.2-1.43.59L10.3 9.45l-7.72 7.72c-.78.78-.78 2.05 0 2.83L4 21.41c.39.39.9.59 1.41.59.51 0 1.02-.2 1.41-.59l7.78-7.78 2.81-2.81c.8-.78.8-2.07 0-2.86zM5.41 20L4 18.59l7.72-7.72 1.47 1.35L5.41 20z\"/>\n",
              "  </svg>\n",
              "      </button>\n",
              "      \n",
              "  <style>\n",
              "    .colab-df-container {\n",
              "      display:flex;\n",
              "      flex-wrap:wrap;\n",
              "      gap: 12px;\n",
              "    }\n",
              "\n",
              "    .colab-df-convert {\n",
              "      background-color: #E8F0FE;\n",
              "      border: none;\n",
              "      border-radius: 50%;\n",
              "      cursor: pointer;\n",
              "      display: none;\n",
              "      fill: #1967D2;\n",
              "      height: 32px;\n",
              "      padding: 0 0 0 0;\n",
              "      width: 32px;\n",
              "    }\n",
              "\n",
              "    .colab-df-convert:hover {\n",
              "      background-color: #E2EBFA;\n",
              "      box-shadow: 0px 1px 2px rgba(60, 64, 67, 0.3), 0px 1px 3px 1px rgba(60, 64, 67, 0.15);\n",
              "      fill: #174EA6;\n",
              "    }\n",
              "\n",
              "    [theme=dark] .colab-df-convert {\n",
              "      background-color: #3B4455;\n",
              "      fill: #D2E3FC;\n",
              "    }\n",
              "\n",
              "    [theme=dark] .colab-df-convert:hover {\n",
              "      background-color: #434B5C;\n",
              "      box-shadow: 0px 1px 3px 1px rgba(0, 0, 0, 0.15);\n",
              "      filter: drop-shadow(0px 1px 2px rgba(0, 0, 0, 0.3));\n",
              "      fill: #FFFFFF;\n",
              "    }\n",
              "  </style>\n",
              "\n",
              "      <script>\n",
              "        const buttonEl =\n",
              "          document.querySelector('#df-cea2bedc-0f6d-45d8-b09d-60467968702e button.colab-df-convert');\n",
              "        buttonEl.style.display =\n",
              "          google.colab.kernel.accessAllowed ? 'block' : 'none';\n",
              "\n",
              "        async function convertToInteractive(key) {\n",
              "          const element = document.querySelector('#df-cea2bedc-0f6d-45d8-b09d-60467968702e');\n",
              "          const dataTable =\n",
              "            await google.colab.kernel.invokeFunction('convertToInteractive',\n",
              "                                                     [key], {});\n",
              "          if (!dataTable) return;\n",
              "\n",
              "          const docLinkHtml = 'Like what you see? Visit the ' +\n",
              "            '<a target=\"_blank\" href=https://colab.research.google.com/notebooks/data_table.ipynb>data table notebook</a>'\n",
              "            + ' to learn more about interactive tables.';\n",
              "          element.innerHTML = '';\n",
              "          dataTable['output_type'] = 'display_data';\n",
              "          await google.colab.output.renderOutput(dataTable, element);\n",
              "          const docLink = document.createElement('div');\n",
              "          docLink.innerHTML = docLinkHtml;\n",
              "          element.appendChild(docLink);\n",
              "        }\n",
              "      </script>\n",
              "    </div>\n",
              "  </div>\n",
              "  "
            ]
          },
          "metadata": {},
          "execution_count": 28
        }
      ]
    },
    {
      "cell_type": "code",
      "source": [
        "df2.drop(columns=['합계','일반','65세이상고령자','노인인구별독거노인비율','X','Y','위도UTMK','경도UTMK','총합 9'],inplace=True)"
      ],
      "metadata": {
        "id": "UwRAatvECvxP"
      },
      "execution_count": null,
      "outputs": []
    },
    {
      "cell_type": "code",
      "source": [
        "df2"
      ],
      "metadata": {
        "colab": {
          "base_uri": "https://localhost:8080/",
          "height": 424
        },
        "id": "ENqDvhwcLy59",
        "outputId": "4e208093-a70a-46b0-c778-d560272e93b4"
      },
      "execution_count": null,
      "outputs": [
        {
          "output_type": "execute_result",
          "data": {
            "text/plain": [
              "      자치구            동               센터명  공원수  도서관수  병원수  배움터수  동별강좌정원  사고건수  \\\n",
              "0     종로구          사직동          사직동 주민센터  1.0   2.0  0.0   0.0    50.0   0.0   \n",
              "1     종로구  종로1.2.3.4가동  종로1.2.3.4가동 주민센터  1.0   0.0  1.0   2.0   360.0   0.0   \n",
              "2     종로구          삼청동          삼청동 주민센터  0.0   1.0  0.0   0.0     0.0   0.0   \n",
              "3     종로구          이화동          이화동 주민센터  2.0   0.0  0.0   1.0     0.0   0.0   \n",
              "4     종로구          혜화동          혜화동 주민센터  0.0   0.0  0.0   0.0    37.0   0.0   \n",
              "..    ...          ...               ...  ...   ...  ...   ...     ...   ...   \n",
              "327  영등포구         당산1동        당산1동 영등포구청  0.0   0.0  0.0   0.0   170.0   6.0   \n",
              "328   동작구        노량진2동        노량진2동 동작구청  0.0   1.0  0.0   1.0    15.0   0.0   \n",
              "329   관악구          청룡동          청룡동 관악구청  0.0   0.0  0.0   0.0   443.0   3.0   \n",
              "330   서초구         서초2동         서초2동 서초구청  0.0   0.0  0.0   1.0   489.0   0.0   \n",
              "331   강남구         삼성2동         삼성2동 강남구청  0.0   2.0  0.0   1.0     0.0   0.0   \n",
              "\n",
              "        독거노인포함  대중교통  전연령별독거노인비율   디지털정보지수  \n",
              "0    1087370.0   1.0    6.016724   9168.42  \n",
              "1    2558435.0   5.0   15.210701   6455.13  \n",
              "2     161760.0   3.0    8.250258   2243.48  \n",
              "3     718820.0   0.0    6.263099   7323.87  \n",
              "4    2135562.0   3.0    3.982974  17054.63  \n",
              "..         ...   ...         ...       ...  \n",
              "327  2670108.0   5.0    3.764684  20953.38  \n",
              "328  2413815.0   3.0    6.623742  10457.07  \n",
              "329  5942970.0   2.0    3.672402  39840.23  \n",
              "330   943800.0   3.0    1.670425  28298.14  \n",
              "331  1988884.0   2.0    1.929663  32734.65  \n",
              "\n",
              "[332 rows x 13 columns]"
            ],
            "text/html": [
              "\n",
              "  <div id=\"df-770582fb-9a9e-4ed4-8e2e-c02ca5ccb02d\">\n",
              "    <div class=\"colab-df-container\">\n",
              "      <div>\n",
              "<style scoped>\n",
              "    .dataframe tbody tr th:only-of-type {\n",
              "        vertical-align: middle;\n",
              "    }\n",
              "\n",
              "    .dataframe tbody tr th {\n",
              "        vertical-align: top;\n",
              "    }\n",
              "\n",
              "    .dataframe thead th {\n",
              "        text-align: right;\n",
              "    }\n",
              "</style>\n",
              "<table border=\"1\" class=\"dataframe\">\n",
              "  <thead>\n",
              "    <tr style=\"text-align: right;\">\n",
              "      <th></th>\n",
              "      <th>자치구</th>\n",
              "      <th>동</th>\n",
              "      <th>센터명</th>\n",
              "      <th>공원수</th>\n",
              "      <th>도서관수</th>\n",
              "      <th>병원수</th>\n",
              "      <th>배움터수</th>\n",
              "      <th>동별강좌정원</th>\n",
              "      <th>사고건수</th>\n",
              "      <th>독거노인포함</th>\n",
              "      <th>대중교통</th>\n",
              "      <th>전연령별독거노인비율</th>\n",
              "      <th>디지털정보지수</th>\n",
              "    </tr>\n",
              "  </thead>\n",
              "  <tbody>\n",
              "    <tr>\n",
              "      <th>0</th>\n",
              "      <td>종로구</td>\n",
              "      <td>사직동</td>\n",
              "      <td>사직동 주민센터</td>\n",
              "      <td>1.0</td>\n",
              "      <td>2.0</td>\n",
              "      <td>0.0</td>\n",
              "      <td>0.0</td>\n",
              "      <td>50.0</td>\n",
              "      <td>0.0</td>\n",
              "      <td>1087370.0</td>\n",
              "      <td>1.0</td>\n",
              "      <td>6.016724</td>\n",
              "      <td>9168.42</td>\n",
              "    </tr>\n",
              "    <tr>\n",
              "      <th>1</th>\n",
              "      <td>종로구</td>\n",
              "      <td>종로1.2.3.4가동</td>\n",
              "      <td>종로1.2.3.4가동 주민센터</td>\n",
              "      <td>1.0</td>\n",
              "      <td>0.0</td>\n",
              "      <td>1.0</td>\n",
              "      <td>2.0</td>\n",
              "      <td>360.0</td>\n",
              "      <td>0.0</td>\n",
              "      <td>2558435.0</td>\n",
              "      <td>5.0</td>\n",
              "      <td>15.210701</td>\n",
              "      <td>6455.13</td>\n",
              "    </tr>\n",
              "    <tr>\n",
              "      <th>2</th>\n",
              "      <td>종로구</td>\n",
              "      <td>삼청동</td>\n",
              "      <td>삼청동 주민센터</td>\n",
              "      <td>0.0</td>\n",
              "      <td>1.0</td>\n",
              "      <td>0.0</td>\n",
              "      <td>0.0</td>\n",
              "      <td>0.0</td>\n",
              "      <td>0.0</td>\n",
              "      <td>161760.0</td>\n",
              "      <td>3.0</td>\n",
              "      <td>8.250258</td>\n",
              "      <td>2243.48</td>\n",
              "    </tr>\n",
              "    <tr>\n",
              "      <th>3</th>\n",
              "      <td>종로구</td>\n",
              "      <td>이화동</td>\n",
              "      <td>이화동 주민센터</td>\n",
              "      <td>2.0</td>\n",
              "      <td>0.0</td>\n",
              "      <td>0.0</td>\n",
              "      <td>1.0</td>\n",
              "      <td>0.0</td>\n",
              "      <td>0.0</td>\n",
              "      <td>718820.0</td>\n",
              "      <td>0.0</td>\n",
              "      <td>6.263099</td>\n",
              "      <td>7323.87</td>\n",
              "    </tr>\n",
              "    <tr>\n",
              "      <th>4</th>\n",
              "      <td>종로구</td>\n",
              "      <td>혜화동</td>\n",
              "      <td>혜화동 주민센터</td>\n",
              "      <td>0.0</td>\n",
              "      <td>0.0</td>\n",
              "      <td>0.0</td>\n",
              "      <td>0.0</td>\n",
              "      <td>37.0</td>\n",
              "      <td>0.0</td>\n",
              "      <td>2135562.0</td>\n",
              "      <td>3.0</td>\n",
              "      <td>3.982974</td>\n",
              "      <td>17054.63</td>\n",
              "    </tr>\n",
              "    <tr>\n",
              "      <th>...</th>\n",
              "      <td>...</td>\n",
              "      <td>...</td>\n",
              "      <td>...</td>\n",
              "      <td>...</td>\n",
              "      <td>...</td>\n",
              "      <td>...</td>\n",
              "      <td>...</td>\n",
              "      <td>...</td>\n",
              "      <td>...</td>\n",
              "      <td>...</td>\n",
              "      <td>...</td>\n",
              "      <td>...</td>\n",
              "      <td>...</td>\n",
              "    </tr>\n",
              "    <tr>\n",
              "      <th>327</th>\n",
              "      <td>영등포구</td>\n",
              "      <td>당산1동</td>\n",
              "      <td>당산1동 영등포구청</td>\n",
              "      <td>0.0</td>\n",
              "      <td>0.0</td>\n",
              "      <td>0.0</td>\n",
              "      <td>0.0</td>\n",
              "      <td>170.0</td>\n",
              "      <td>6.0</td>\n",
              "      <td>2670108.0</td>\n",
              "      <td>5.0</td>\n",
              "      <td>3.764684</td>\n",
              "      <td>20953.38</td>\n",
              "    </tr>\n",
              "    <tr>\n",
              "      <th>328</th>\n",
              "      <td>동작구</td>\n",
              "      <td>노량진2동</td>\n",
              "      <td>노량진2동 동작구청</td>\n",
              "      <td>0.0</td>\n",
              "      <td>1.0</td>\n",
              "      <td>0.0</td>\n",
              "      <td>1.0</td>\n",
              "      <td>15.0</td>\n",
              "      <td>0.0</td>\n",
              "      <td>2413815.0</td>\n",
              "      <td>3.0</td>\n",
              "      <td>6.623742</td>\n",
              "      <td>10457.07</td>\n",
              "    </tr>\n",
              "    <tr>\n",
              "      <th>329</th>\n",
              "      <td>관악구</td>\n",
              "      <td>청룡동</td>\n",
              "      <td>청룡동 관악구청</td>\n",
              "      <td>0.0</td>\n",
              "      <td>0.0</td>\n",
              "      <td>0.0</td>\n",
              "      <td>0.0</td>\n",
              "      <td>443.0</td>\n",
              "      <td>3.0</td>\n",
              "      <td>5942970.0</td>\n",
              "      <td>2.0</td>\n",
              "      <td>3.672402</td>\n",
              "      <td>39840.23</td>\n",
              "    </tr>\n",
              "    <tr>\n",
              "      <th>330</th>\n",
              "      <td>서초구</td>\n",
              "      <td>서초2동</td>\n",
              "      <td>서초2동 서초구청</td>\n",
              "      <td>0.0</td>\n",
              "      <td>0.0</td>\n",
              "      <td>0.0</td>\n",
              "      <td>1.0</td>\n",
              "      <td>489.0</td>\n",
              "      <td>0.0</td>\n",
              "      <td>943800.0</td>\n",
              "      <td>3.0</td>\n",
              "      <td>1.670425</td>\n",
              "      <td>28298.14</td>\n",
              "    </tr>\n",
              "    <tr>\n",
              "      <th>331</th>\n",
              "      <td>강남구</td>\n",
              "      <td>삼성2동</td>\n",
              "      <td>삼성2동 강남구청</td>\n",
              "      <td>0.0</td>\n",
              "      <td>2.0</td>\n",
              "      <td>0.0</td>\n",
              "      <td>1.0</td>\n",
              "      <td>0.0</td>\n",
              "      <td>0.0</td>\n",
              "      <td>1988884.0</td>\n",
              "      <td>2.0</td>\n",
              "      <td>1.929663</td>\n",
              "      <td>32734.65</td>\n",
              "    </tr>\n",
              "  </tbody>\n",
              "</table>\n",
              "<p>332 rows × 13 columns</p>\n",
              "</div>\n",
              "      <button class=\"colab-df-convert\" onclick=\"convertToInteractive('df-770582fb-9a9e-4ed4-8e2e-c02ca5ccb02d')\"\n",
              "              title=\"Convert this dataframe to an interactive table.\"\n",
              "              style=\"display:none;\">\n",
              "        \n",
              "  <svg xmlns=\"http://www.w3.org/2000/svg\" height=\"24px\"viewBox=\"0 0 24 24\"\n",
              "       width=\"24px\">\n",
              "    <path d=\"M0 0h24v24H0V0z\" fill=\"none\"/>\n",
              "    <path d=\"M18.56 5.44l.94 2.06.94-2.06 2.06-.94-2.06-.94-.94-2.06-.94 2.06-2.06.94zm-11 1L8.5 8.5l.94-2.06 2.06-.94-2.06-.94L8.5 2.5l-.94 2.06-2.06.94zm10 10l.94 2.06.94-2.06 2.06-.94-2.06-.94-.94-2.06-.94 2.06-2.06.94z\"/><path d=\"M17.41 7.96l-1.37-1.37c-.4-.4-.92-.59-1.43-.59-.52 0-1.04.2-1.43.59L10.3 9.45l-7.72 7.72c-.78.78-.78 2.05 0 2.83L4 21.41c.39.39.9.59 1.41.59.51 0 1.02-.2 1.41-.59l7.78-7.78 2.81-2.81c.8-.78.8-2.07 0-2.86zM5.41 20L4 18.59l7.72-7.72 1.47 1.35L5.41 20z\"/>\n",
              "  </svg>\n",
              "      </button>\n",
              "      \n",
              "  <style>\n",
              "    .colab-df-container {\n",
              "      display:flex;\n",
              "      flex-wrap:wrap;\n",
              "      gap: 12px;\n",
              "    }\n",
              "\n",
              "    .colab-df-convert {\n",
              "      background-color: #E8F0FE;\n",
              "      border: none;\n",
              "      border-radius: 50%;\n",
              "      cursor: pointer;\n",
              "      display: none;\n",
              "      fill: #1967D2;\n",
              "      height: 32px;\n",
              "      padding: 0 0 0 0;\n",
              "      width: 32px;\n",
              "    }\n",
              "\n",
              "    .colab-df-convert:hover {\n",
              "      background-color: #E2EBFA;\n",
              "      box-shadow: 0px 1px 2px rgba(60, 64, 67, 0.3), 0px 1px 3px 1px rgba(60, 64, 67, 0.15);\n",
              "      fill: #174EA6;\n",
              "    }\n",
              "\n",
              "    [theme=dark] .colab-df-convert {\n",
              "      background-color: #3B4455;\n",
              "      fill: #D2E3FC;\n",
              "    }\n",
              "\n",
              "    [theme=dark] .colab-df-convert:hover {\n",
              "      background-color: #434B5C;\n",
              "      box-shadow: 0px 1px 3px 1px rgba(0, 0, 0, 0.15);\n",
              "      filter: drop-shadow(0px 1px 2px rgba(0, 0, 0, 0.3));\n",
              "      fill: #FFFFFF;\n",
              "    }\n",
              "  </style>\n",
              "\n",
              "      <script>\n",
              "        const buttonEl =\n",
              "          document.querySelector('#df-770582fb-9a9e-4ed4-8e2e-c02ca5ccb02d button.colab-df-convert');\n",
              "        buttonEl.style.display =\n",
              "          google.colab.kernel.accessAllowed ? 'block' : 'none';\n",
              "\n",
              "        async function convertToInteractive(key) {\n",
              "          const element = document.querySelector('#df-770582fb-9a9e-4ed4-8e2e-c02ca5ccb02d');\n",
              "          const dataTable =\n",
              "            await google.colab.kernel.invokeFunction('convertToInteractive',\n",
              "                                                     [key], {});\n",
              "          if (!dataTable) return;\n",
              "\n",
              "          const docLinkHtml = 'Like what you see? Visit the ' +\n",
              "            '<a target=\"_blank\" href=https://colab.research.google.com/notebooks/data_table.ipynb>data table notebook</a>'\n",
              "            + ' to learn more about interactive tables.';\n",
              "          element.innerHTML = '';\n",
              "          dataTable['output_type'] = 'display_data';\n",
              "          await google.colab.output.renderOutput(dataTable, element);\n",
              "          const docLink = document.createElement('div');\n",
              "          docLink.innerHTML = docLinkHtml;\n",
              "          element.appendChild(docLink);\n",
              "        }\n",
              "      </script>\n",
              "    </div>\n",
              "  </div>\n",
              "  "
            ]
          },
          "metadata": {},
          "execution_count": 30
        }
      ]
    },
    {
      "cell_type": "code",
      "source": [
        "df2['주변특성'] = None\n",
        "df2['주변특성'] = df2['공원수']+df2['도서관수']+df2['병원수']+df2['배움터수']"
      ],
      "metadata": {
        "id": "bFZwzwycL3yg"
      },
      "execution_count": null,
      "outputs": []
    },
    {
      "cell_type": "code",
      "source": [
        "df2.drop(columns=['공원수','도서관수','병원수','배움터수','사고건수'],inplace=True)"
      ],
      "metadata": {
        "id": "Qpkw1UOtO6XI"
      },
      "execution_count": null,
      "outputs": []
    },
    {
      "cell_type": "code",
      "source": [
        "df2 = df2.iloc[:,3:]"
      ],
      "metadata": {
        "id": "gcGG-l3ePdMf"
      },
      "execution_count": null,
      "outputs": []
    },
    {
      "cell_type": "code",
      "source": [
        "column = df2.columns\n",
        "column"
      ],
      "metadata": {
        "colab": {
          "base_uri": "https://localhost:8080/"
        },
        "id": "gn5K_YwcDaxT",
        "outputId": "4e307b6c-39ef-4b7f-a098-1a18d97bc2b6"
      },
      "execution_count": null,
      "outputs": [
        {
          "output_type": "execute_result",
          "data": {
            "text/plain": [
              "Index(['동별강좌정원', '독거노인포함', '대중교통', '전연령별독거노인비율', '디지털정보지수', '주변특성'], dtype='object')"
            ]
          },
          "metadata": {},
          "execution_count": 37
        }
      ]
    },
    {
      "cell_type": "code",
      "source": [
        "scaler = StandardScaler()\n",
        "df2_scaled = scaler.fit_transform(df2)\n",
        "df2_scaled = pd.DataFrame(df2_scaled, columns = column)\n",
        "df2_scaled.head(1)"
      ],
      "metadata": {
        "colab": {
          "base_uri": "https://localhost:8080/",
          "height": 81
        },
        "id": "oDv2nDADBm2H",
        "outputId": "97df7708-e47a-484e-8bd9-b408d0b25f67"
      },
      "execution_count": null,
      "outputs": [
        {
          "output_type": "execute_result",
          "data": {
            "text/plain": [
              "     동별강좌정원    독거노인포함      대중교통  전연령별독거노인비율   디지털정보지수   주변특성\n",
              "0 -0.746355 -1.136415 -0.447988    0.925393 -1.618131  1.708"
            ],
            "text/html": [
              "\n",
              "  <div id=\"df-158028be-aa99-4f8f-8f49-081100ebea02\">\n",
              "    <div class=\"colab-df-container\">\n",
              "      <div>\n",
              "<style scoped>\n",
              "    .dataframe tbody tr th:only-of-type {\n",
              "        vertical-align: middle;\n",
              "    }\n",
              "\n",
              "    .dataframe tbody tr th {\n",
              "        vertical-align: top;\n",
              "    }\n",
              "\n",
              "    .dataframe thead th {\n",
              "        text-align: right;\n",
              "    }\n",
              "</style>\n",
              "<table border=\"1\" class=\"dataframe\">\n",
              "  <thead>\n",
              "    <tr style=\"text-align: right;\">\n",
              "      <th></th>\n",
              "      <th>동별강좌정원</th>\n",
              "      <th>독거노인포함</th>\n",
              "      <th>대중교통</th>\n",
              "      <th>전연령별독거노인비율</th>\n",
              "      <th>디지털정보지수</th>\n",
              "      <th>주변특성</th>\n",
              "    </tr>\n",
              "  </thead>\n",
              "  <tbody>\n",
              "    <tr>\n",
              "      <th>0</th>\n",
              "      <td>-0.746355</td>\n",
              "      <td>-1.136415</td>\n",
              "      <td>-0.447988</td>\n",
              "      <td>0.925393</td>\n",
              "      <td>-1.618131</td>\n",
              "      <td>1.708</td>\n",
              "    </tr>\n",
              "  </tbody>\n",
              "</table>\n",
              "</div>\n",
              "      <button class=\"colab-df-convert\" onclick=\"convertToInteractive('df-158028be-aa99-4f8f-8f49-081100ebea02')\"\n",
              "              title=\"Convert this dataframe to an interactive table.\"\n",
              "              style=\"display:none;\">\n",
              "        \n",
              "  <svg xmlns=\"http://www.w3.org/2000/svg\" height=\"24px\"viewBox=\"0 0 24 24\"\n",
              "       width=\"24px\">\n",
              "    <path d=\"M0 0h24v24H0V0z\" fill=\"none\"/>\n",
              "    <path d=\"M18.56 5.44l.94 2.06.94-2.06 2.06-.94-2.06-.94-.94-2.06-.94 2.06-2.06.94zm-11 1L8.5 8.5l.94-2.06 2.06-.94-2.06-.94L8.5 2.5l-.94 2.06-2.06.94zm10 10l.94 2.06.94-2.06 2.06-.94-2.06-.94-.94-2.06-.94 2.06-2.06.94z\"/><path d=\"M17.41 7.96l-1.37-1.37c-.4-.4-.92-.59-1.43-.59-.52 0-1.04.2-1.43.59L10.3 9.45l-7.72 7.72c-.78.78-.78 2.05 0 2.83L4 21.41c.39.39.9.59 1.41.59.51 0 1.02-.2 1.41-.59l7.78-7.78 2.81-2.81c.8-.78.8-2.07 0-2.86zM5.41 20L4 18.59l7.72-7.72 1.47 1.35L5.41 20z\"/>\n",
              "  </svg>\n",
              "      </button>\n",
              "      \n",
              "  <style>\n",
              "    .colab-df-container {\n",
              "      display:flex;\n",
              "      flex-wrap:wrap;\n",
              "      gap: 12px;\n",
              "    }\n",
              "\n",
              "    .colab-df-convert {\n",
              "      background-color: #E8F0FE;\n",
              "      border: none;\n",
              "      border-radius: 50%;\n",
              "      cursor: pointer;\n",
              "      display: none;\n",
              "      fill: #1967D2;\n",
              "      height: 32px;\n",
              "      padding: 0 0 0 0;\n",
              "      width: 32px;\n",
              "    }\n",
              "\n",
              "    .colab-df-convert:hover {\n",
              "      background-color: #E2EBFA;\n",
              "      box-shadow: 0px 1px 2px rgba(60, 64, 67, 0.3), 0px 1px 3px 1px rgba(60, 64, 67, 0.15);\n",
              "      fill: #174EA6;\n",
              "    }\n",
              "\n",
              "    [theme=dark] .colab-df-convert {\n",
              "      background-color: #3B4455;\n",
              "      fill: #D2E3FC;\n",
              "    }\n",
              "\n",
              "    [theme=dark] .colab-df-convert:hover {\n",
              "      background-color: #434B5C;\n",
              "      box-shadow: 0px 1px 3px 1px rgba(0, 0, 0, 0.15);\n",
              "      filter: drop-shadow(0px 1px 2px rgba(0, 0, 0, 0.3));\n",
              "      fill: #FFFFFF;\n",
              "    }\n",
              "  </style>\n",
              "\n",
              "      <script>\n",
              "        const buttonEl =\n",
              "          document.querySelector('#df-158028be-aa99-4f8f-8f49-081100ebea02 button.colab-df-convert');\n",
              "        buttonEl.style.display =\n",
              "          google.colab.kernel.accessAllowed ? 'block' : 'none';\n",
              "\n",
              "        async function convertToInteractive(key) {\n",
              "          const element = document.querySelector('#df-158028be-aa99-4f8f-8f49-081100ebea02');\n",
              "          const dataTable =\n",
              "            await google.colab.kernel.invokeFunction('convertToInteractive',\n",
              "                                                     [key], {});\n",
              "          if (!dataTable) return;\n",
              "\n",
              "          const docLinkHtml = 'Like what you see? Visit the ' +\n",
              "            '<a target=\"_blank\" href=https://colab.research.google.com/notebooks/data_table.ipynb>data table notebook</a>'\n",
              "            + ' to learn more about interactive tables.';\n",
              "          element.innerHTML = '';\n",
              "          dataTable['output_type'] = 'display_data';\n",
              "          await google.colab.output.renderOutput(dataTable, element);\n",
              "          const docLink = document.createElement('div');\n",
              "          docLink.innerHTML = docLinkHtml;\n",
              "          element.appendChild(docLink);\n",
              "        }\n",
              "      </script>\n",
              "    </div>\n",
              "  </div>\n",
              "  "
            ]
          },
          "metadata": {},
          "execution_count": 38
        }
      ]
    },
    {
      "cell_type": "code",
      "source": [
        "df3 = df2_scaled.copy()\n",
        "df3.head(1)"
      ],
      "metadata": {
        "colab": {
          "base_uri": "https://localhost:8080/",
          "height": 81
        },
        "id": "WY3tes4oDhB9",
        "outputId": "acff2983-1e61-4465-d475-f7cfc56f7772"
      },
      "execution_count": null,
      "outputs": [
        {
          "output_type": "execute_result",
          "data": {
            "text/plain": [
              "     동별강좌정원    독거노인포함      대중교통  전연령별독거노인비율   디지털정보지수   주변특성\n",
              "0 -0.746355 -1.136415 -0.447988    0.925393 -1.618131  1.708"
            ],
            "text/html": [
              "\n",
              "  <div id=\"df-cdce9059-cd0f-43e8-8b8a-abac27e11464\">\n",
              "    <div class=\"colab-df-container\">\n",
              "      <div>\n",
              "<style scoped>\n",
              "    .dataframe tbody tr th:only-of-type {\n",
              "        vertical-align: middle;\n",
              "    }\n",
              "\n",
              "    .dataframe tbody tr th {\n",
              "        vertical-align: top;\n",
              "    }\n",
              "\n",
              "    .dataframe thead th {\n",
              "        text-align: right;\n",
              "    }\n",
              "</style>\n",
              "<table border=\"1\" class=\"dataframe\">\n",
              "  <thead>\n",
              "    <tr style=\"text-align: right;\">\n",
              "      <th></th>\n",
              "      <th>동별강좌정원</th>\n",
              "      <th>독거노인포함</th>\n",
              "      <th>대중교통</th>\n",
              "      <th>전연령별독거노인비율</th>\n",
              "      <th>디지털정보지수</th>\n",
              "      <th>주변특성</th>\n",
              "    </tr>\n",
              "  </thead>\n",
              "  <tbody>\n",
              "    <tr>\n",
              "      <th>0</th>\n",
              "      <td>-0.746355</td>\n",
              "      <td>-1.136415</td>\n",
              "      <td>-0.447988</td>\n",
              "      <td>0.925393</td>\n",
              "      <td>-1.618131</td>\n",
              "      <td>1.708</td>\n",
              "    </tr>\n",
              "  </tbody>\n",
              "</table>\n",
              "</div>\n",
              "      <button class=\"colab-df-convert\" onclick=\"convertToInteractive('df-cdce9059-cd0f-43e8-8b8a-abac27e11464')\"\n",
              "              title=\"Convert this dataframe to an interactive table.\"\n",
              "              style=\"display:none;\">\n",
              "        \n",
              "  <svg xmlns=\"http://www.w3.org/2000/svg\" height=\"24px\"viewBox=\"0 0 24 24\"\n",
              "       width=\"24px\">\n",
              "    <path d=\"M0 0h24v24H0V0z\" fill=\"none\"/>\n",
              "    <path d=\"M18.56 5.44l.94 2.06.94-2.06 2.06-.94-2.06-.94-.94-2.06-.94 2.06-2.06.94zm-11 1L8.5 8.5l.94-2.06 2.06-.94-2.06-.94L8.5 2.5l-.94 2.06-2.06.94zm10 10l.94 2.06.94-2.06 2.06-.94-2.06-.94-.94-2.06-.94 2.06-2.06.94z\"/><path d=\"M17.41 7.96l-1.37-1.37c-.4-.4-.92-.59-1.43-.59-.52 0-1.04.2-1.43.59L10.3 9.45l-7.72 7.72c-.78.78-.78 2.05 0 2.83L4 21.41c.39.39.9.59 1.41.59.51 0 1.02-.2 1.41-.59l7.78-7.78 2.81-2.81c.8-.78.8-2.07 0-2.86zM5.41 20L4 18.59l7.72-7.72 1.47 1.35L5.41 20z\"/>\n",
              "  </svg>\n",
              "      </button>\n",
              "      \n",
              "  <style>\n",
              "    .colab-df-container {\n",
              "      display:flex;\n",
              "      flex-wrap:wrap;\n",
              "      gap: 12px;\n",
              "    }\n",
              "\n",
              "    .colab-df-convert {\n",
              "      background-color: #E8F0FE;\n",
              "      border: none;\n",
              "      border-radius: 50%;\n",
              "      cursor: pointer;\n",
              "      display: none;\n",
              "      fill: #1967D2;\n",
              "      height: 32px;\n",
              "      padding: 0 0 0 0;\n",
              "      width: 32px;\n",
              "    }\n",
              "\n",
              "    .colab-df-convert:hover {\n",
              "      background-color: #E2EBFA;\n",
              "      box-shadow: 0px 1px 2px rgba(60, 64, 67, 0.3), 0px 1px 3px 1px rgba(60, 64, 67, 0.15);\n",
              "      fill: #174EA6;\n",
              "    }\n",
              "\n",
              "    [theme=dark] .colab-df-convert {\n",
              "      background-color: #3B4455;\n",
              "      fill: #D2E3FC;\n",
              "    }\n",
              "\n",
              "    [theme=dark] .colab-df-convert:hover {\n",
              "      background-color: #434B5C;\n",
              "      box-shadow: 0px 1px 3px 1px rgba(0, 0, 0, 0.15);\n",
              "      filter: drop-shadow(0px 1px 2px rgba(0, 0, 0, 0.3));\n",
              "      fill: #FFFFFF;\n",
              "    }\n",
              "  </style>\n",
              "\n",
              "      <script>\n",
              "        const buttonEl =\n",
              "          document.querySelector('#df-cdce9059-cd0f-43e8-8b8a-abac27e11464 button.colab-df-convert');\n",
              "        buttonEl.style.display =\n",
              "          google.colab.kernel.accessAllowed ? 'block' : 'none';\n",
              "\n",
              "        async function convertToInteractive(key) {\n",
              "          const element = document.querySelector('#df-cdce9059-cd0f-43e8-8b8a-abac27e11464');\n",
              "          const dataTable =\n",
              "            await google.colab.kernel.invokeFunction('convertToInteractive',\n",
              "                                                     [key], {});\n",
              "          if (!dataTable) return;\n",
              "\n",
              "          const docLinkHtml = 'Like what you see? Visit the ' +\n",
              "            '<a target=\"_blank\" href=https://colab.research.google.com/notebooks/data_table.ipynb>data table notebook</a>'\n",
              "            + ' to learn more about interactive tables.';\n",
              "          element.innerHTML = '';\n",
              "          dataTable['output_type'] = 'display_data';\n",
              "          await google.colab.output.renderOutput(dataTable, element);\n",
              "          const docLink = document.createElement('div');\n",
              "          docLink.innerHTML = docLinkHtml;\n",
              "          element.appendChild(docLink);\n",
              "        }\n",
              "      </script>\n",
              "    </div>\n",
              "  </div>\n",
              "  "
            ]
          },
          "metadata": {},
          "execution_count": 40
        }
      ]
    },
    {
      "cell_type": "markdown",
      "source": [
        "## KMeans 실루엣 시작."
      ],
      "metadata": {
        "id": "ZsdVeAZSDtM4"
      }
    },
    {
      "cell_type": "code",
      "source": [
        "print('k = 2 일때')\n",
        "kmeans = KMeans(n_clusters=2, init='k-means++', max_iter=300, random_state=42)\n",
        "kmeans.fit(df2_scaled)\n",
        "df3['cluster'] = kmeans.labels_\n",
        "\n",
        "score_samples = silhouette_samples(df2_scaled, df3['cluster'])\n",
        "# print(score_samples.shape)\n",
        "# print(score_samples)\n",
        "df3['silhoutte_coeff'] = score_samples\n",
        "\n",
        "average_score = silhouette_score(df2_scaled, df3['cluster'])\n",
        "print(average_score)\n",
        "print(df3.groupby('cluster')['silhoutte_coeff'].count())\n",
        "print(df3.groupby('cluster')['silhoutte_coeff'].mean())\n",
        "print(np.var(df3['silhoutte_coeff']))"
      ],
      "metadata": {
        "colab": {
          "base_uri": "https://localhost:8080/"
        },
        "id": "fWgt1--RDli6",
        "outputId": "904ce738-c01e-4a2b-e9fd-a4fa58239d0a"
      },
      "execution_count": null,
      "outputs": [
        {
          "output_type": "stream",
          "name": "stdout",
          "text": [
            "k = 2 일때\n",
            "0.16954158352534696\n",
            "cluster\n",
            "0    174\n",
            "1    158\n",
            "Name: silhoutte_coeff, dtype: int64\n",
            "cluster\n",
            "0    0.170568\n",
            "1    0.168411\n",
            "Name: silhoutte_coeff, dtype: float64\n",
            "0.008742282802622073\n"
          ]
        }
      ]
    },
    {
      "cell_type": "code",
      "source": [
        "print('k = 2 일때')\n",
        "kmeans_2 = KMeans(n_clusters=2, random_state=42, init='k-means++')\n",
        "#visualizer 생성\n",
        "visualizer_2 = SilhouetteVisualizer(kmeans_2, colors='yellowbrick')\n",
        "#생성된 visualizer에 데이터 입력 \n",
        "visualizer_2.fit(df2_scaled)\n",
        "visualizer_2.show()"
      ],
      "metadata": {
        "colab": {
          "base_uri": "https://localhost:8080/",
          "height": 412
        },
        "id": "G2qhUuIvD1KF",
        "outputId": "030c8a98-e21a-4c36-85d1-589e6ed6772c"
      },
      "execution_count": null,
      "outputs": [
        {
          "output_type": "stream",
          "name": "stdout",
          "text": [
            "k = 2 일때\n"
          ]
        },
        {
          "output_type": "display_data",
          "data": {
            "text/plain": [
              "<Figure size 576x396 with 1 Axes>"
            ],
            "image/png": "[encoded data removed]"
          },
          "metadata": {}
        },
        {
          "output_type": "execute_result",
          "data": {
            "text/plain": [
              "<matplotlib.axes._subplots.AxesSubplot at 0x7f1ca2502bd0>"
            ]
          },
          "metadata": {},
          "execution_count": 42
        }
      ]
    },
    {
      "cell_type": "code",
      "source": [
        "df3 = df2_scaled.copy()"
      ],
      "metadata": {
        "id": "YNGDSx-BD3-a"
      },
      "execution_count": null,
      "outputs": []
    },
    {
      "cell_type": "code",
      "source": [
        "print('k = 3 일 때')\n",
        "kmeans = KMeans(n_clusters=3, init='k-means++', max_iter=300, random_state=42)\n",
        "kmeans.fit(df3)\n",
        "df3['cluster'] = kmeans.labels_\n",
        "\n",
        "score_samples = silhouette_samples(df2_scaled, df3['cluster'])\n",
        "# print(score_samples.shape)\n",
        "# print(score_samples)\n",
        "df3['silhoutte_coeff'] = score_samples\n",
        "\n",
        "average_score = silhouette_score(df2_scaled, df3['cluster'])\n",
        "print(average_score)\n",
        "print(df3.groupby('cluster')['silhoutte_coeff'].count())\n",
        "print(df3.groupby('cluster')['silhoutte_coeff'].mean())\n",
        "print(np.var(df3['silhoutte_coeff']))"
      ],
      "metadata": {
        "colab": {
          "base_uri": "https://localhost:8080/"
        },
        "id": "okDJlwzIEcuB",
        "outputId": "ebd43a78-2a9a-40d5-eaf1-98abb33f427a"
      },
      "execution_count": null,
      "outputs": [
        {
          "output_type": "stream",
          "name": "stdout",
          "text": [
            "k = 3 일 때\n",
            "0.16301211557186226\n",
            "cluster\n",
            "0     75\n",
            "1    133\n",
            "2    124\n",
            "Name: silhoutte_coeff, dtype: int64\n",
            "cluster\n",
            "0    0.184865\n",
            "1    0.233321\n",
            "2    0.074382\n",
            "Name: silhoutte_coeff, dtype: float64\n",
            "0.015520294764050983\n"
          ]
        }
      ]
    },
    {
      "cell_type": "code",
      "source": [
        "# k = 3 일때\n",
        "kmeans_3 = KMeans(n_clusters=3, random_state=42, init='k-means++')\n",
        "#visualizer 생성\n",
        "visualizer_3 = SilhouetteVisualizer(kmeans_3, colors='yellowbrick')\n",
        "#생성된 visualizer에 데이터 입력 \n",
        "visualizer_3.fit(df2_scaled)\n",
        "visualizer_3.show()"
      ],
      "metadata": {
        "colab": {
          "base_uri": "https://localhost:8080/",
          "height": 394
        },
        "id": "nGhXlk3kEeYG",
        "outputId": "b7b39553-8fe2-46af-b55c-53d77f03947e"
      },
      "execution_count": null,
      "outputs": [
        {
          "output_type": "display_data",
          "data": {
            "text/plain": [
              "<Figure size 576x396 with 1 Axes>"
            ],
            "image/png": "[encoded data removed]"
          },
          "metadata": {}
        },
        {
          "output_type": "execute_result",
          "data": {
            "text/plain": [
              "<matplotlib.axes._subplots.AxesSubplot at 0x7f1c9ef99090>"
            ]
          },
          "metadata": {},
          "execution_count": 45
        }
      ]
    },
    {
      "cell_type": "code",
      "source": [
        "df3 = df2_scaled.copy()"
      ],
      "metadata": {
        "id": "3uW9_gsmEjv0"
      },
      "execution_count": null,
      "outputs": []
    },
    {
      "cell_type": "code",
      "source": [
        "print('k = 4 일 때')\n",
        "kmeans = KMeans(n_clusters=4, init='k-means++', max_iter=300, random_state=42)\n",
        "kmeans.fit(df3)\n",
        "df3['cluster'] = kmeans.labels_\n",
        "\n",
        "score_samples = silhouette_samples(df2_scaled, df3['cluster'])\n",
        "# print(score_samples.shape)\n",
        "# print(score_samples)\n",
        "df3['silhoutte_coeff'] = score_samples\n",
        "\n",
        "average_score = silhouette_score(df2_scaled, df3['cluster'])\n",
        "print(average_score)\n",
        "print(df3.groupby('cluster')['silhoutte_coeff'].count())\n",
        "print(df3.groupby('cluster')['silhoutte_coeff'].mean())\n",
        "print(np.var(df3['silhoutte_coeff']))"
      ],
      "metadata": {
        "colab": {
          "base_uri": "https://localhost:8080/"
        },
        "id": "U56dFONPEmkT",
        "outputId": "e29d8523-dc40-4d6c-c0be-d4e4627ea97c"
      },
      "execution_count": null,
      "outputs": [
        {
          "output_type": "stream",
          "name": "stdout",
          "text": [
            "k = 4 일 때\n",
            "0.17650596010014663\n",
            "cluster\n",
            "0     75\n",
            "1    101\n",
            "2     95\n",
            "3     61\n",
            "Name: silhoutte_coeff, dtype: int64\n",
            "cluster\n",
            "0    0.176032\n",
            "1    0.163587\n",
            "2    0.231707\n",
            "3    0.112510\n",
            "Name: silhoutte_coeff, dtype: float64\n",
            "0.014614943206889027\n"
          ]
        }
      ]
    },
    {
      "cell_type": "code",
      "source": [
        "# k = 4 일때\n",
        "kmeans_4 = KMeans(n_clusters=4, random_state=42, init='k-means++')\n",
        "#visualizer 생성\n",
        "visualizer_4 = SilhouetteVisualizer(kmeans_4, colors='yellowbrick')\n",
        "#생성된 visualizer에 데이터 입력 \n",
        "visualizer_4.fit(df2_scaled)\n",
        "visualizer_4.show()"
      ],
      "metadata": {
        "colab": {
          "base_uri": "https://localhost:8080/",
          "height": 394
        },
        "id": "g4k4gGSLEtF8",
        "outputId": "47ba100d-8111-4957-abe7-e19901ecda64"
      },
      "execution_count": null,
      "outputs": [
        {
          "output_type": "display_data",
          "data": {
            "text/plain": [
              "<Figure size 576x396 with 1 Axes>"
            ],
            "image/png": "[encoded data removed]"
          },
          "metadata": {}
        },
        {
          "output_type": "execute_result",
          "data": {
            "text/plain": [
              "<matplotlib.axes._subplots.AxesSubplot at 0x7f1ca24e52d0>"
            ]
          },
          "metadata": {},
          "execution_count": 48
        }
      ]
    },
    {
      "cell_type": "code",
      "source": [
        "df3 = df2_scaled.copy()"
      ],
      "metadata": {
        "id": "FwGd6dLGEucR"
      },
      "execution_count": null,
      "outputs": []
    },
    {
      "cell_type": "code",
      "source": [
        "print('k = 5 일 때')\n",
        "kmeans = KMeans(n_clusters=5, init='k-means++', max_iter=300, random_state=42)\n",
        "kmeans.fit(df3)\n",
        "df3['cluster'] = kmeans.labels_\n",
        "\n",
        "score_samples = silhouette_samples(df2_scaled, df3['cluster'])\n",
        "# print(score_samples.shape)\n",
        "# print(score_samples)\n",
        "df3['silhoutte_coeff'] = score_samples\n",
        "\n",
        "average_score = silhouette_score(df2_scaled, df3['cluster'])\n",
        "print(average_score)\n",
        "print(df3.groupby('cluster')['silhoutte_coeff'].count())\n",
        "print(df3.groupby('cluster')['silhoutte_coeff'].mean())\n",
        "print(np.var(df3['silhoutte_coeff']))"
      ],
      "metadata": {
        "colab": {
          "base_uri": "https://localhost:8080/"
        },
        "id": "vT_o9GWvEzZ8",
        "outputId": "df7955f1-6405-46ce-d7cc-9aed2bc67f96"
      },
      "execution_count": null,
      "outputs": [
        {
          "output_type": "stream",
          "name": "stdout",
          "text": [
            "k = 5 일 때\n",
            "0.2119852049140914\n",
            "cluster\n",
            "0     59\n",
            "1    148\n",
            "2     61\n",
            "3     25\n",
            "4     39\n",
            "Name: silhoutte_coeff, dtype: int64\n",
            "cluster\n",
            "0    0.111063\n",
            "1    0.299978\n",
            "2    0.159540\n",
            "3    0.140155\n",
            "4    0.158818\n",
            "Name: silhoutte_coeff, dtype: float64\n",
            "0.021491647261885325\n"
          ]
        }
      ]
    },
    {
      "cell_type": "code",
      "source": [
        "# k = 5 일때\n",
        "kmeans_5 = KMeans(n_clusters=5, random_state=42, init='k-means++')\n",
        "#visualizer 생성\n",
        "visualizer_5 = SilhouetteVisualizer(kmeans_5, colors='yellowbrick')\n",
        "#생성된 visualizer에 데이터 입력 \n",
        "visualizer_5.fit(df2_scaled)\n",
        "visualizer_5.show()"
      ],
      "metadata": {
        "colab": {
          "base_uri": "https://localhost:8080/",
          "height": 394
        },
        "id": "vK5xkN7yE01B",
        "outputId": "2886d639-f6af-4b2b-c3a5-9e5be3c5ecb4"
      },
      "execution_count": null,
      "outputs": [
        {
          "output_type": "display_data",
          "data": {
            "text/plain": [
              "<Figure size 576x396 with 1 Axes>"
            ],
            "image/png": "[encoded data removed]"
          },
          "metadata": {}
        },
        {
          "output_type": "execute_result",
          "data": {
            "text/plain": [
              "<matplotlib.axes._subplots.AxesSubplot at 0x7f1c9cee17d0>"
            ]
          },
          "metadata": {},
          "execution_count": 51
        }
      ]
    },
    {
      "cell_type": "markdown",
      "source": [
        "## Hierarchical 실루엣 시작."
      ],
      "metadata": {
        "id": "edn86Y1HQXHx"
      }
    },
    {
      "cell_type": "code",
      "source": [
        "final_sc = df2.copy()\n",
        "X_sc = df2_scaled.copy()"
      ],
      "metadata": {
        "id": "6NAbNDonE2I1"
      },
      "execution_count": null,
      "outputs": []
    },
    {
      "cell_type": "code",
      "source": [
        "# sc 스케일링한 데이터 덴드로그램 그리기 for t \n",
        "clusters = linkage(y=X_sc, method='complete', metric='euclidean')\n",
        "plt.figure(figsize=(40,20))\n",
        "\n",
        "dendrogram(clusters)\n",
        "plt.show()"
      ],
      "metadata": {
        "colab": {
          "base_uri": "https://localhost:8080/",
          "height": 746
        },
        "id": "55X8NZmjHvE-",
        "outputId": "b58c3809-0865-4ad5-bc95-3b0c724ee012"
      },
      "execution_count": null,
      "outputs": [
        {
          "output_type": "display_data",
          "data": {
            "text/plain": [
              "<Figure size 2880x1440 with 1 Axes>"
            ],
            "image/png": "[encoded data removed]"
          },
          "metadata": {}
        }
      ]
    },
    {
      "cell_type": "code",
      "source": [
        "# 함수 만들기 - 군집개수, 각 군집당 실루엣 계수, 분산\n",
        "def silhouette_hc(final_, X, t) :\n",
        "    clusters = linkage(y=X, method = 'complete', metric = 'euclidean')\n",
        "    cut_tree = fcluster(clusters, t = t, criterion = 'distance')\n",
        "    final_['cluster'] = cut_tree # 예측값 넣기 \n",
        "    final_['silhouette_coeff'] = silhouette_samples(X, final_['cluster'])\n",
        "    n_group = len(np.unique(final_['cluster']) )\n",
        "\n",
        "    avg_score = silhouette_score(X, final_['cluster'])\n",
        "    avg_by_count = final_.groupby('cluster')['silhouette_coeff'].count()\n",
        "    avg_by_cluster = final_.groupby('cluster')['silhouette_coeff'].mean()\n",
        "    var = np.var(final_sc['silhouette_coeff'])\n",
        "    \n",
        "    print('군집 계수 :   ',n_group)\n",
        "    print('군집 개수 : ',avg_by_count)\n",
        "    print('실루엣평균 :  ',avg_score)\n",
        "    print('군집 분산 :   ',var)\n",
        "    print(avg_by_cluster)"
      ],
      "metadata": {
        "id": "u7pObqEFKaFE"
      },
      "execution_count": null,
      "outputs": []
    },
    {
      "cell_type": "code",
      "source": [
        "# n_cluster가 \n",
        "silhouette_hc(final_sc, X_sc, t=10)"
      ],
      "metadata": {
        "colab": {
          "base_uri": "https://localhost:8080/"
        },
        "id": "H65lvU5pHwUz",
        "outputId": "57705aa9-90ee-4e69-9e3f-ad7cfb3a1cbb"
      },
      "execution_count": null,
      "outputs": [
        {
          "output_type": "stream",
          "name": "stdout",
          "text": [
            "군집 계수 :    2\n",
            "군집 개수 :  cluster\n",
            "1      8\n",
            "2    324\n",
            "Name: silhouette_coeff, dtype: int64\n",
            "실루엣평균 :   0.43513934632947154\n",
            "군집 분산 :    0.016919639491036153\n",
            "cluster\n",
            "1    0.458960\n",
            "2    0.434551\n",
            "Name: silhouette_coeff, dtype: float64\n"
          ]
        }
      ]
    },
    {
      "cell_type": "code",
      "source": [
        "silhouette_hc(final_sc, X_sc, t=8)"
      ],
      "metadata": {
        "colab": {
          "base_uri": "https://localhost:8080/"
        },
        "id": "HutGacWFNfi9",
        "outputId": "691b9d8d-9a19-477d-b5a6-79cf250179e2"
      },
      "execution_count": null,
      "outputs": [
        {
          "output_type": "stream",
          "name": "stdout",
          "text": [
            "군집 계수 :    3\n",
            "군집 개수 :  cluster\n",
            "1      8\n",
            "2     43\n",
            "3    281\n",
            "Name: silhouette_coeff, dtype: int64\n",
            "실루엣평균 :   0.21300947492004824\n",
            "군집 분산 :    0.024050868944121985\n",
            "cluster\n",
            "1    0.443671\n",
            "2    0.302640\n",
            "3    0.192727\n",
            "Name: silhouette_coeff, dtype: float64\n"
          ]
        }
      ]
    },
    {
      "cell_type": "code",
      "source": [
        "silhouette_hc(final_sc, X_sc, t=7)"
      ],
      "metadata": {
        "colab": {
          "base_uri": "https://localhost:8080/"
        },
        "id": "uWq5xtU9QZhc",
        "outputId": "ae642cc9-57fa-4e35-cf28-9061f8f4a708"
      },
      "execution_count": null,
      "outputs": [
        {
          "output_type": "stream",
          "name": "stdout",
          "text": [
            "군집 계수 :    4\n",
            "군집 개수 :  cluster\n",
            "1      8\n",
            "2     43\n",
            "3     23\n",
            "4    258\n",
            "Name: silhouette_coeff, dtype: int64\n",
            "실루엣평균 :   0.21990944381103\n",
            "군집 분산 :    0.02538539708843803\n",
            "cluster\n",
            "1    0.426186\n",
            "2    0.275737\n",
            "3    0.294367\n",
            "4    0.197571\n",
            "Name: silhouette_coeff, dtype: float64\n"
          ]
        }
      ]
    },
    {
      "cell_type": "code",
      "source": [
        "silhouette_hc(final_sc, X_sc, t=6.8)"
      ],
      "metadata": {
        "colab": {
          "base_uri": "https://localhost:8080/"
        },
        "id": "jw5aJdR_P3AO",
        "outputId": "94dfc46c-1df1-4334-b1d5-5a0f8e7735a2"
      },
      "execution_count": null,
      "outputs": [
        {
          "output_type": "stream",
          "name": "stdout",
          "text": [
            "군집 계수 :    5\n",
            "군집 개수 :  cluster\n",
            "1      8\n",
            "2     43\n",
            "3     23\n",
            "4    208\n",
            "5     50\n",
            "Name: silhouette_coeff, dtype: int64\n",
            "실루엣평균 :   0.2001546746432442\n",
            "군집 분산 :    0.02934445349622613\n",
            "cluster\n",
            "1    0.406341\n",
            "2    0.252577\n",
            "3    0.268461\n",
            "4    0.219273\n",
            "5    0.011130\n",
            "Name: silhouette_coeff, dtype: float64\n"
          ]
        }
      ]
    }
  ]
}